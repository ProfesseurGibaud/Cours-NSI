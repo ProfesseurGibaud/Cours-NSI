{
 "cells": [
  {
   "cell_type": "markdown",
   "metadata": {},
   "source": [
    "# Rappel sur les algorithmes"
   ]
  },
  {
   "cell_type": "markdown",
   "metadata": {},
   "source": [
    "On va faire tourner tous nos algorithmes sur des listes d'objets. Ces objets seront des cadeaux (faut qu'on pense positif !) Ces cadeaux auront des valeurs aléatoires."
   ]
  },
  {
   "cell_type": "code",
   "execution_count": 1,
   "metadata": {},
   "outputs": [],
   "source": [
    "import random as rd\n",
    "class Cadeau:\n",
    "    def __init__(self,numero):\n",
    "        self.numero = numero\n",
    "        self.valeur = rd.randint(1,1000)\n",
    "    def __str__(self):\n",
    "        return f\"le cadeau numero {self.numero} a pour valeur {self.valeur}\""
   ]
  },
  {
   "cell_type": "code",
   "execution_count": 2,
   "metadata": {},
   "outputs": [],
   "source": [
    "liste_cadeau = [Cadeau(i) for i in range(500)]"
   ]
  },
  {
   "cell_type": "code",
   "execution_count": null,
   "metadata": {},
   "outputs": [],
   "source": [
    "for cadeau in liste_cadeau:\n",
    "    print(cadeau)"
   ]
  },
  {
   "cell_type": "markdown",
   "metadata": {},
   "source": [
    "## I) Les algorithmes du min et du max"
   ]
  },
  {
   "cell_type": "markdown",
   "metadata": {},
   "source": [
    "Dans ces algorithmes, on va chercher le min (ou max) en comparant tous les objets à l'objet qui a la plus petite valeur (qu'on connait). Si l'objet est plus petit que l'objet le plus petit alors le nouvel objet est le minimum sinon l'ancien objet reste le minimum.\n",
    "\n",
    "Le pseudo-code est le suivant : \n",
    "```\n",
    "Entrée : Liste\n",
    "Sortie : m minimum\n",
    "\n",
    "Algo \n",
    "m = L[0]\n",
    "Pour chaque élément de Liste:\n",
    "    Faire\n",
    "        Si élément < m Alors m = élément\n",
    "    Fin Faire\n",
    "Renvoyer m\n",
    "\n",
    "\n",
    "\n",
    "```"
   ]
  },
  {
   "cell_type": "markdown",
   "metadata": {},
   "source": [
    "<b> Exercice </b>\n",
    "* Ecrire ce code en Python pour renvoyer le cadeau avec la plus petite valeur (il y a une petite modification à faire)\n",
    "* Adapter ce code (on peut utiliser <code>enumerate</code>) pour qu'il renvoie en plus du minimum l'indice du minimum\n",
    "* Réécrire ce dernier code avec le maximum (on veut l'objet le plus grand et l'indice du maximum)"
   ]
  },
  {
   "cell_type": "markdown",
   "metadata": {},
   "source": [
    "## II) Algorithmes de tris\n",
    "\n",
    "Petite vidéo qui illustre bien : https://www.youtube.com/watch?v=14c5N8CfnUo&ab_channel=VincentGoulet\n"
   ]
  },
  {
   "cell_type": "markdown",
   "metadata": {},
   "source": [
    "### II.1) Tri par insertion\n",
    "\n",
    "Vous avez vu dans la vidéo précédente à quoi ressemble un tri par insertion. L'idée est d'avoir un tableau trié de plus en plus grand en décalant les cartes au fur et à mesure. Le pseudo code (merci Wikipedia) est maintenant !\n",
    "\n",
    "```\n",
    "  procédure tri_insertion(tableau T)\n",
    "  \n",
    "       pour i de 1 à taille(T) - 1\n",
    "\n",
    "            # mémoriser T[i] dans x\n",
    "            x ← T[i]                            \n",
    "\n",
    "            # décaler les éléments T[0]..T[i-1] qui sont plus grands que x, en partant de T[i-1]\n",
    "            j ← i                               \n",
    "            tant que j > 0 et T[j - 1] > x\n",
    "                     T[j] ← T[j - 1]\n",
    "                     j ← j - 1\n",
    "\n",
    "            # placer x dans le \"trou\" laissé par le décalage\n",
    "            T[j] ← x      \n",
    "```\n",
    "\n",
    "<b> Exercice </b>\n",
    "\n",
    "* Ecrire ce code pour créer une première liste <code> liste_par_insertion </code> de cadeaux trié par valeur croissante\n",
    "\n",
    "### II.2) Tri par selection\n",
    "\n",
    "Vous avez vu dans la vidéo précédente à quoi ressemble un tri par selection. L'idée est de trouver les min successifs et de les permuter avec les cartes courantes. Le pseudo code (merci Wikipedia) est maintenant !\n",
    "\n",
    "```\n",
    "   procédure tri_selection(tableau t)\n",
    "      n ← longueur(t) \n",
    "      pour i de 0 à n - 2\n",
    "          min ← i       \n",
    "          pour j de i + 1 à n - 1\n",
    "              si t[j] < t[min], alors min ← j\n",
    "          fin pour\n",
    "          si min ≠ i, alors échanger t[i] et t[min]\n",
    "      fin pour\n",
    "  fin procédure\n",
    "```\n",
    "\n",
    "<b> Exercice </b>\n",
    "\n",
    "* Ecrire ce code pour créer une première liste <code> liste_par_selection </code> de cadeaux trié par valeur décroissante."
   ]
  },
  {
   "cell_type": "markdown",
   "metadata": {},
   "source": [
    "## III) Algorithme de Recherche\n",
    "\n",
    "### III.1) Algorithme de Recherche naïf. Anale de Bac (presque)\n",
    "<b> Exercice </b>\n",
    "\n",
    "Proposer une fonction qui prend en entrée une valeur <code>v</code> et qui renvoie <code>True</code> si il y a un cadeau de valeur <code>v</code> dans la liste et <code> False </code> sinon. "
   ]
  },
  {
   "cell_type": "markdown",
   "metadata": {},
   "source": [
    "### III.2) Algorithme de recherche par dichotomie\n",
    "\n",
    "Cet algorithme de recherche fonctionne <b> SEULEMENT </b> sur des tableaux triés (dans l'ordre croissant).\n",
    "La dichotomie signifie couper en deux. Donc on va chercher une valeur en coupant notre liste en 2 puis en 2 puis en 2 etc ...\n",
    "\n",
    "Le pseudo code est le suivant (merci qui merci wikipedia!)\n",
    "\n",
    "```\n",
    "trouvé = Faux\n",
    "debut = 0\n",
    "fin = N #N est la taille du tableau\n",
    "val = val # valeur qu'on cherche dans le tableau\n",
    "\n",
    "Tant que trouvé != vrai et début <= fin:\n",
    "      mil ← partie_entière((début + fin)/2)\n",
    "      si t[mil] == val:\n",
    "         trouvé ← vrai\n",
    "      sinon:\n",
    "         si val > t[mil]:\n",
    "            début ← mil+1\n",
    "         sinon:\n",
    "            fin ← mil-1\n",
    "\n",
    "```\n",
    "\n",
    "<b> Exercice </b>\n",
    "\n",
    "Implémenter cet algorithme en Python et chercher si il y a un cadeau de valeur 43 dans la liste trié par ordre croissant."
   ]
  }
 ],
 "metadata": {
  "kernelspec": {
   "display_name": "Python 3.9.10 64-bit",
   "language": "python",
   "name": "python3"
  },
  "language_info": {
   "codemirror_mode": {
    "name": "ipython",
    "version": 3
   },
   "file_extension": ".py",
   "mimetype": "text/x-python",
   "name": "python",
   "nbconvert_exporter": "python",
   "pygments_lexer": "ipython3",
   "version": "3.9.10"
  },
  "orig_nbformat": 4,
  "vscode": {
   "interpreter": {
    "hash": "11938c6bc6919ae2720b4d5011047913343b08a43b18698fd82dedb0d4417594"
   }
  }
 },
 "nbformat": 4,
 "nbformat_minor": 2
}
