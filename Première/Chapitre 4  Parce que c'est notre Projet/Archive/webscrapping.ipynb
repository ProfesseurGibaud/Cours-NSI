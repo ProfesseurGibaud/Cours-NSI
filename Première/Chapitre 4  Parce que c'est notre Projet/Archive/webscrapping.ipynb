{
 "cells": [
  {
   "cell_type": "markdown",
   "metadata": {},
   "source": [
    "# TP Guidé : WebScrapping\n",
    "## I) Le WebScrapping dans la vraie vie\n",
    "\n",
    "Le WebScrapping est une activité très utilisé dans l’industrie informatique. En effet\n",
    "c’est un outil très efficace pour récolter des données sur Internet et pouvoir les traiter.\n",
    "Cependant est ce que c’est légal ?\n",
    "\n",
    "\n",
    "Extrait de <i>L’usine Digitale</i>\n",
    "\n",
    "La pratique du web scraping pourrait être considérée comme un \"vol de données\"\n",
    "(atteinte au STAD) en s’appuyant sur l’article 323-3 du Code pénal qui énonce :\n",
    "\"Le fait d’introduire frauduleusement des données dans un système de traitement\n",
    "automatisé, d’extraire, de détenir, de reproduire, de transmettre, de supprimer ou de\n",
    "modifier frauduleusement les données qu’il contient est puni de cinq ans d’emprisonnement et de 150 000 € d’amende. Lorsque cette infraction a été commise à l’encontre d’un système de traitement automatisé de données à caractère personnel mis\n",
    "en oeuvre par l’Etat, la peine est portée à sept ans d’emprisonnement et à 300 000\n",
    "€ d’amende.\" Il conviendrait toutefois de caractériser l’intention frauduleuse du web\n",
    "scraping.\n",
    "On peut également considérer qu’il s’agit d’un acte de concurrence déloyale ou\n",
    "d’une pratique de parasitisme, la personne recourant au web scraping n’ayant pas effectué les mêmes efforts (en termes de communication, d’investissements techniques,\n",
    "etc.) que le teneur du site pour collecter ces données.\n",
    "En outre, ce point se double d’exigences impératives en matière de protection des\n",
    "données à caractère personnel des utilisateurs à l’heure où le RGPD constitue une\n",
    "donne incontournable dans la stratégie des entreprises connectées. Il met en exergue\n",
    "la nécessité d’une gouvernance des données à caractère personnel (tant organisationnelle que juridique ou technique)...\n",
    "\n"
   ]
  },
  {
   "cell_type": "markdown",
   "metadata": {},
   "source": [
    "\n",
    "\n",
    "<i> Le mot du professeur </i>\n",
    "\n",
    "Pour ne pas tomber dans l'illégalité dans le webscrapping.\n",
    "* Ne publiez pas en ligne les informations que vous avez récupérer avec le webscrapping.\n",
    "* Limitez au maximum le nombre de connexion au site (1 connexion maximum par page), comme vous le feriez en naviguant à la main. Les connexions sont faites grâce au module requests. <b>NE METTEZ JAMAIS <code>requests</code> DANS UNE BOUCLE</b>\n",
    "\n",
    "Si les données sont en licence libre, alors vous avez le droit d’y accéder librement."
   ]
  },
  {
   "cell_type": "markdown",
   "metadata": {},
   "source": [
    "## II) Installation des prerequis"
   ]
  },
  {
   "cell_type": "markdown",
   "metadata": {},
   "source": [
    "Taper dans le terminal (en bas ou dans Terminal -> ouvrir Nouveau Terminal)\n",
    "```\n",
    "pip install beautifulsoup4\n",
    "```"
   ]
  },
  {
   "cell_type": "markdown",
   "metadata": {},
   "source": [
    "Si vous êtes sur le wifi du lycée taper :\n",
    "```\n",
    "pip install --10.0.0.1:3128 beautifulsoup4\n",
    "```"
   ]
  },
  {
   "cell_type": "markdown",
   "metadata": {},
   "source": [
    "Cette commande permet d’installer la librairie beautifulsoup4 qui permet à partir\n",
    "du texte d’une page html d’obtenir un objet dans lequel on pourra naviguer."
   ]
  },
  {
   "cell_type": "markdown",
   "metadata": {},
   "source": [
    "## III) Initialisation \n",
    "\n",
    "On va charger les librairies dont on aura besoin : "
   ]
  },
  {
   "cell_type": "code",
   "execution_count": null,
   "metadata": {},
   "outputs": [],
   "source": [
    "import requests\n",
    "import urllib.request\n",
    "import time\n",
    "from bs4 import BeautifulSoup\n",
    "import os"
   ]
  },
  {
   "cell_type": "markdown",
   "metadata": {},
   "source": [
    "* Les ligne 1 et 2 importe le module requests qui permet de faire des requêtes à des\n",
    "server web.\n",
    "* La ligne 3 permet d’importer le module time qui permettra au programme d’at-\n",
    "tendre (que la page se charge par exemple)\n",
    "* La ligne 4 importe le module beautifulsoup qui permet de rendre les pages html\n",
    "\"intelligible\"\n",
    "* la ligne 5 importe le package os qui permet de manipuler l’os.\n",
    "\n",
    "\n",
    "Entrer dans une variable <code>url</code> l’url du site qui vous intéresse. Ici dans ce tp pour vous\n",
    "guider on va prendre : \"https ://www.lnr.fr/rugby-top-14/classement-rugby-top-14\""
   ]
  },
  {
   "cell_type": "code",
   "execution_count": null,
   "metadata": {},
   "outputs": [],
   "source": []
  },
  {
   "cell_type": "markdown",
   "metadata": {},
   "source": [
    "## IV) Navigation sur le site\n",
    "### IV.1) Navigation à la main\n",
    "\n",
    "On va chercher où est la meilleure équipe de tout les temps dans le code html. Pour\n",
    "cela, entrer dans le navigateur l’url et faîte un clic droit sur le <b>stade Toulousain</b>"
   ]
  },
  {
   "cell_type": "markdown",
   "metadata": {},
   "source": [
    "<b>Exercice </b>\n",
    "\n",
    "1. Donner la classe (\"class\") de l’objet que vous avez sélectionné.\n",
    "2. Vérifier que la classe du parent de l’objet que vous avez sélectionné est\n",
    "\"row-n-1\".\n",
    "3. Vérifier que le type du grand-père de l’objet que vous avez sélectionné est\n",
    "\"table\" et que ses classes sont \"ranking-dividers\" et \"sorted-by-rank-asc\" (ce\n",
    "dernier peut être modifié si vous avez touché au tri du tableau)"
   ]
  },
  {
   "cell_type": "markdown",
   "metadata": {},
   "source": [
    "<b> Remarques </b>\n",
    "\n",
    "Marquez les remarques que vous avez notés durant cette navigation ici (c'est noté)"
   ]
  },
  {
   "cell_type": "markdown",
   "metadata": {},
   "source": [
    "### IV.2) Navigation du site en Python (Exercice)"
   ]
  },
  {
   "cell_type": "code",
   "execution_count": null,
   "metadata": {},
   "outputs": [],
   "source": [
    "response = requests.get(url)\n",
    "soup = BeautifulSoup(response.text,\"html.parser\")"
   ]
  },
  {
   "cell_type": "code",
   "execution_count": null,
   "metadata": {},
   "outputs": [],
   "source": []
  },
  {
   "cell_type": "markdown",
   "metadata": {},
   "source": [
    "En utilisant votre cerveau (si si) et la partie 3, que font ces 2 lignes. Vous pouvez voir <code> soup </code> pour vous faire une idée."
   ]
  },
  {
   "cell_type": "markdown",
   "metadata": {},
   "source": [
    "2. Le nom de l’équipe étant dans un tableau \"Td\", nous allons récupérer toutes les balises td du fichier html. Pour cela affecter à une variable TD soup.findAll(\"td\").\n",
    "Quelle est le type de TD ? quelle est la longueur de TD ?"
   ]
  },
  {
   "cell_type": "code",
   "execution_count": null,
   "metadata": {},
   "outputs": [],
   "source": []
  },
  {
   "cell_type": "markdown",
   "metadata": {},
   "source": [
    "3. chaque élément de TD fonctionne comme un dictionnaire avec plusieurs clé.\n",
    "Une de ces clé est \"class\". Faites une boucle qui affiche la \"class\" de tous les\n",
    "éléments de TD."
   ]
  },
  {
   "cell_type": "code",
   "execution_count": null,
   "metadata": {},
   "outputs": [],
   "source": []
  },
  {
   "cell_type": "markdown",
   "metadata": {},
   "source": [
    "4. Le nom de l’équipe est dans les balises avec la class ’views-field-field–quipe’.\n",
    "Faite une boucle sur TD qui affiche True si l’élément de la liste a ’views-field-\n",
    "field–quipe’ dans ses \"class\" et False sinon. On pourra utiliser : ’views-field-\n",
    "field–quipe’ in td[\"class\"] avec td l’élement de TD.\n",
    "\n"
   ]
  },
  {
   "cell_type": "code",
   "execution_count": null,
   "metadata": {},
   "outputs": [],
   "source": []
  },
  {
   "cell_type": "markdown",
   "metadata": {},
   "source": [
    "5. Pour obtenir le nom du club à partir d’un élément td de TD on fait : td.findChild().text.\n",
    "Faîtes une boucle qui affiche le nom de toutes les équipes. En petit groupe pro-\n",
    "poser une explication de l’instruction td.findChild().text."
   ]
  },
  {
   "cell_type": "code",
   "execution_count": null,
   "metadata": {},
   "outputs": [],
   "source": []
  },
  {
   "cell_type": "markdown",
   "metadata": {},
   "source": [
    "6. Faites une boucle qui affiche True si l’élément td de TD représente le Stade\n",
    "Toulousain et False sinon. Vous devez avoir exactement 1 seul True. (Les es-\n",
    "paces peuvent vous jouer des tours, vous pouvez utiliser in)."
   ]
  },
  {
   "cell_type": "code",
   "execution_count": null,
   "metadata": {},
   "outputs": [],
   "source": []
  },
  {
   "cell_type": "markdown",
   "metadata": {},
   "source": [
    "7. Pour obtenir toutes les informations sur les résultats du stade toulousain on\n",
    "doit aller voir sa balise parente. Pour se faire on va affecter à Parent td.findParents()[0].\n",
    "Les données seront dans les enfants du parent (il faudra utiliser .findChil-\n",
    "dren()). Donner le nombre d’enfants de Parent."
   ]
  },
  {
   "cell_type": "code",
   "execution_count": null,
   "metadata": {},
   "outputs": [],
   "source": []
  },
  {
   "cell_type": "markdown",
   "metadata": {},
   "source": [
    "8. Explorer dans la console à la main les enfants de Parent. Donner les index\n",
    "des enfants donnant : le rang (ranking), les points (field-point), la journée,\n",
    "le nombre de victoires, de défaites, de nuls, de bonus, de points marqués, de\n",
    "points concédés, de différences de points.\n"
   ]
  },
  {
   "cell_type": "code",
   "execution_count": null,
   "metadata": {},
   "outputs": [],
   "source": []
  },
  {
   "cell_type": "markdown",
   "metadata": {},
   "source": [
    "9. On peut obtenir le nombre dans l’enfant en ajoutant après l’enfant un .text. Faire une fonction qui prend en argument une liste d’enfants et qui affiche les statistiques de la question 8\n",
    "Un exemple : "
   ]
  },
  {
   "cell_type": "code",
   "execution_count": null,
   "metadata": {},
   "outputs": [],
   "source": [
    "Children[15].text"
   ]
  },
  {
   "cell_type": "code",
   "execution_count": null,
   "metadata": {},
   "outputs": [],
   "source": []
  },
  {
   "cell_type": "markdown",
   "metadata": {},
   "source": [
    "10. Faire une boucle qui affiche les statistiques de toutes les équipes (penser à\n",
    "mettre le nom des équipes.)"
   ]
  },
  {
   "cell_type": "code",
   "execution_count": null,
   "metadata": {},
   "outputs": [],
   "source": []
  },
  {
   "cell_type": "markdown",
   "metadata": {},
   "source": [
    "11. Faire une fonction qui encapsule qui affiche les statistiques de toutes les équipes"
   ]
  },
  {
   "cell_type": "code",
   "execution_count": null,
   "metadata": {},
   "outputs": [],
   "source": []
  },
  {
   "cell_type": "markdown",
   "metadata": {},
   "source": [
    "## V) Devoir Maison\n",
    "\n",
    "Sur le site  https://fbref.com/fr/pays/joueurs/FRA/Joueurs-de-football-de-France, combien il y a-t-il de joueurs de foot ayant un prénom qui commence par un \"A\" et\n",
    "qui ont \"MF\" à la suite de leur nom. Donner le code en python qui vous a permis de trouver la réponse.\n"
   ]
  }
 ],
 "metadata": {
  "language_info": {
   "name": "python"
  },
  "orig_nbformat": 4
 },
 "nbformat": 4,
 "nbformat_minor": 2
}
