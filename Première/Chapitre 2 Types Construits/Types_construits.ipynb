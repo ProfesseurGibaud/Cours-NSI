{
 "cells": [
  {
   "cell_type": "markdown",
   "metadata": {},
   "source": [
    "# Types Construits\n",
    "\n",
    "## I) Introduction"
   ]
  },
  {
   "cell_type": "markdown",
   "metadata": {},
   "source": [
    "On a vu des objets en python de type int, float, str et bool et on a souvent manipuler\n",
    "une variable contenant une valeur. On peut facilement voir qu’il serait utile d’avoir des\n",
    "variables contenant plusieurs valeurs : des coordonnées, une liste de noms, une liste\n",
    "de notes, etc...\n",
    "À partir du moment où on parle d’une collection de valeur il vient le problème de l’or-\n",
    "ganisation de ces valeurs, l’ordre, etc. On a donc plusieurs types d’objets pour mani-\n",
    "puler une collection de valeur. On les appelle des types construits."
   ]
  },
  {
   "cell_type": "markdown",
   "metadata": {},
   "source": [
    "## II) Tuples\n",
    "### II.1) Objets modifiables ou persistant"
   ]
  },
  {
   "cell_type": "markdown",
   "metadata": {},
   "source": [
    "---\n",
    "> <span style=\"color:Green\"> **_Définition_:** </span>\n",
    ">   \n",
    "> On dira qu’un objet de type construit est modifiable (\"mutable\" en anglais) si on\n",
    "peut remplacer une des valeurs par une nouvelle valeur, changer la longueur de l’objet, etc. On dit qu’un objet est persistant ou immuable (\"immutable\" en anglais) s’il\n",
    "n’est pas modifiable une fois construit.\n",
    ">\n",
    ">\n",
    ">\n",
    "---"
   ]
  },
  {
   "cell_type": "markdown",
   "metadata": {},
   "source": [
    "<b>Intérêt de l'immuabilité</b>\n",
    "* plus rapide d'accès dans la mémoire\n",
    "* nécessite moins de précaution d'emploi\n",
    "* l'interpréteur peut gérer l'allocation mémoire de l'objet plus finement, notamment en partageant la représentation mémoire d'objet immuable qui interviennent plusieurs fois."
   ]
  },
  {
   "cell_type": "markdown",
   "metadata": {},
   "source": [
    "### II.2) Définition des tuples et utilisation en Python"
   ]
  },
  {
   "cell_type": "markdown",
   "metadata": {},
   "source": [
    "---\n",
    "> <span style=\"color:Green\"> **_Définition_:** </span>\n",
    ">   \n",
    "> Un <b>tuple</b> ou <b>p-uplet</b> (\"tuple\" en anglais) est une collection immuable de valeur.\n",
    "Cette collection est <b>indexée</b>, c’est-à-dire qu’à chaque valeur est attribuée sa position dans la collection.\n",
    ">\n",
    ">\n",
    ">\n",
    "---"
   ]
  },
  {
   "cell_type": "markdown",
   "metadata": {},
   "source": [
    "En Python : Les tuples sont de type tuple en python et sont définis en séparant les\n",
    "valeurs par une virgule et en entourant la collection de valeur par des parenthèses"
   ]
  },
  {
   "cell_type": "markdown",
   "metadata": {},
   "source": [
    "#### Exemple de création"
   ]
  },
  {
   "cell_type": "code",
   "execution_count": 1,
   "metadata": {},
   "outputs": [],
   "source": [
    "a = (3,89,-4) #Création d'un tuple à 3 éléments\n",
    "b = ()        #Création d'un tuple vide\n",
    "c = (2,)      #Création d'un tuple à 1 élément (attention à la virgule)"
   ]
  },
  {
   "cell_type": "markdown",
   "metadata": {},
   "source": [
    "#### Opérateur + : Pour concaténer deux tuples, on peut utiliser l'opérateur \"+\""
   ]
  },
  {
   "cell_type": "code",
   "execution_count": null,
   "metadata": {},
   "outputs": [],
   "source": [
    "a = (3,89,-4)\n",
    "c = (2,)\n",
    "d = a + c\n",
    "print(d)"
   ]
  },
  {
   "cell_type": "markdown",
   "metadata": {},
   "source": [
    "#### Opérateur \"\\*\" : On peut créer un tuple par répétition d'un tuple avec l'opérateur \"\\*\""
   ]
  },
  {
   "cell_type": "code",
   "execution_count": null,
   "metadata": {},
   "outputs": [],
   "source": [
    "a = (3,89,-4)\n",
    "e = a*3\n",
    "print(e)"
   ]
  },
  {
   "cell_type": "markdown",
   "metadata": {},
   "source": [
    "#### Tester l'appartenance "
   ]
  },
  {
   "cell_type": "code",
   "execution_count": null,
   "metadata": {},
   "outputs": [],
   "source": [
    "a = (3,89,-4)\n",
    "3 in a \n",
    "2 in a"
   ]
  },
  {
   "cell_type": "markdown",
   "metadata": {},
   "source": [
    "#### Position et longueur : "
   ]
  },
  {
   "cell_type": "code",
   "execution_count": null,
   "metadata": {},
   "outputs": [],
   "source": [
    "a = (3,89,-4)\n",
    "a[0] #Première valeur (en position 0)\n",
    "a[2] #Troisième valeur (en position 2)\n",
    "len(a) #Longueur de a\n",
    "a[-1] #Dernière valeur de a"
   ]
  },
  {
   "cell_type": "markdown",
   "metadata": {},
   "source": [
    "<b>Remarque : Les parenthèses</b>\n",
    "\n",
    "Lorsqu'il n'y a pas d'ambiguités, Python reconnait un t-uplet sans les parenthèses."
   ]
  },
  {
   "cell_type": "code",
   "execution_count": 1,
   "metadata": {},
   "outputs": [],
   "source": [
    "a = 3,4,5\n",
    "b = 3,"
   ]
  },
  {
   "cell_type": "code",
   "execution_count": null,
   "metadata": {},
   "outputs": [],
   "source": [
    "type(a)"
   ]
  },
  {
   "cell_type": "code",
   "execution_count": null,
   "metadata": {},
   "outputs": [],
   "source": [
    "type(b)"
   ]
  },
  {
   "cell_type": "markdown",
   "metadata": {},
   "source": [
    "On peut mettre un t-uplet dans un t-uplet, il est alors nécessaire d'utiliser les parenthèses"
   ]
  },
  {
   "cell_type": "code",
   "execution_count": null,
   "metadata": {},
   "outputs": [],
   "source": [
    "t = 3,4,(2,1),5"
   ]
  },
  {
   "cell_type": "code",
   "execution_count": null,
   "metadata": {},
   "outputs": [],
   "source": [
    "type(t)"
   ]
  },
  {
   "cell_type": "code",
   "execution_count": null,
   "metadata": {},
   "outputs": [],
   "source": [
    "print(t)"
   ]
  },
  {
   "cell_type": "markdown",
   "metadata": {},
   "source": [
    "<b> Exemple d'utilisation : les affectations multiples </b>"
   ]
  },
  {
   "cell_type": "code",
   "execution_count": null,
   "metadata": {},
   "outputs": [],
   "source": [
    "def coord_fonction_carre(a):\n",
    "    return (a,a**2)\n",
    "\n",
    "x,y = coord_fonction_carre(5)"
   ]
  },
  {
   "cell_type": "markdown",
   "metadata": {},
   "source": [
    "---\n",
    "> <span style=\"color:Red\"> **_Exercice_:** </span>\n",
    ">   \n",
    "> 1. Que renvoie les instructions suivantes : \n",
    ">   * ```\n",
    ">       a = 3\n",
    ">       type(a)\n",
    ">      ```\n",
    ">\n",
    ">   * ```\n",
    ">       a = \"Bonjour\"\n",
    ">       type(a)\n",
    ">      ```\n",
    ">    * ```\n",
    ">       a = (2)\n",
    ">       type(a)\n",
    ">      ```\n",
    ">   * ```\n",
    ">       a = (2,)\n",
    ">       type(a)\n",
    ">      ```\n",
    "> \n",
    ">   * ```\n",
    ">       a = (3,2,30)\n",
    ">       type(a)\n",
    ">      ```\n",
    ">   * ```\n",
    ">       a = (3,\"fdsf\",3,\"Bonjour\")\n",
    ">       type(a)\n",
    ">      ```\n",
    "> 2. Ecrire la ligne de code permettant d'affecter à la variable \"couleur\" un tuple contenant le triplet RGB de la couleur Rouge\n",
    "> 3. On considère la variable triplet qui est un tuple à 3 éléments : (3,22,45)\n",
    ">       * Quelle instruction renvoie la deuxième valeur (donc 22) de triplet\n",
    ">       * Peut on remplacer le 3 par un 2 dans ce tuple ?\n",
    ">       * Peut on ajouter une quatrième valeur dans ce tuple ?\n",
    "---"
   ]
  },
  {
   "cell_type": "markdown",
   "metadata": {},
   "source": [
    "## III) Listes\n",
    "### III.1) Généralités\n",
    "#### III.1.1) Définir une liste"
   ]
  },
  {
   "cell_type": "markdown",
   "metadata": {},
   "source": [
    "---\n",
    "> <span style=\"color:Green\"> **_Définition_:** </span>\n",
    ">   \n",
    "> Les listes pythons sont des <b>variables</b> dans lesquelles on peut mettre plusieurs <b>variables</b>.\n",
    ">\n",
    ">\n",
    ">\n",
    "---"
   ]
  },
  {
   "cell_type": "markdown",
   "metadata": {},
   "source": [
    "<b> Exemple </b>\n",
    "\n",
    "L = [1, 2, 3, 4, 5, 6] permet de définir une liste dans python. Cette liste comporte 6 élé-\n",
    "ments. Chacun des éléments sont séparés par des virgules. Le tout est encadré par des\n",
    "crochets"
   ]
  },
  {
   "cell_type": "code",
   "execution_count": 2,
   "metadata": {},
   "outputs": [
    {
     "data": {
      "text/plain": [
       "[1, 2, 3, 4, 5, 6]"
      ]
     },
     "execution_count": 2,
     "metadata": {},
     "output_type": "execute_result"
    }
   ],
   "source": [
    "L = [1,2,3,4,5,6]\n",
    "L"
   ]
  },
  {
   "cell_type": "markdown",
   "metadata": {},
   "source": [
    "<b> Exemple </b>\n",
    "L = [] permet de définir une liste vide dans python. Cette liste comporte 0 élément.\n",
    "* Une liste étant une variable on peut mettre des listes dans des listes. C’est\n",
    "très utile lorsqu’on cherche à faire des tableaux.\n",
    "* Une liste est du type ’list’\n"
   ]
  },
  {
   "cell_type": "markdown",
   "metadata": {},
   "source": [
    "### III.2) Ce qu'il y a dans les listes\n",
    "#### III.2.1) Le premier indice"
   ]
  },
  {
   "cell_type": "markdown",
   "metadata": {},
   "source": [
    "1. Une liste étant une variable on peut mettre des listes dans des listes. C’est\n",
    "très utile lorsqu’on cherche à faire des tableaux.\n",
    "2. Une liste est du type ’list’"
   ]
  },
  {
   "cell_type": "markdown",
   "metadata": {},
   "source": [
    "<b> Exemple </b>\n",
    "\n",
    "Le premier élément de la liste <code>L</code> est donnée par <code>L[0]</code>. Le 4e par <code>L[3]</code>."
   ]
  },
  {
   "cell_type": "code",
   "execution_count": 3,
   "metadata": {},
   "outputs": [
    {
     "name": "stdout",
     "output_type": "stream",
     "text": [
      "1 4\n"
     ]
    }
   ],
   "source": [
    "L = [1,2,3,4,5,6]\n",
    "print(L[0],L[3])"
   ]
  },
  {
   "cell_type": "markdown",
   "metadata": {},
   "source": [
    "#### II.2.2) Accéder à des éléments d'une liste"
   ]
  },
  {
   "cell_type": "markdown",
   "metadata": {},
   "source": [
    "---\n",
    "> <span style=\"color:Red\"> **_Exercice_:** </span>\n",
    ">  On pose <code> L = [1,2,3,4,5,6]</code> \n",
    "> 1. Que retourne <code> L[0] </code> ?\n",
    "> 2. Que devez vous taper dans la console pour obtenur l'élément 8 ?  \n",
    "> 3. Que devez vous taper dans la console pour obtenir l'élément \"c\"?\n",
    "---"
   ]
  },
  {
   "cell_type": "markdown",
   "metadata": {},
   "source": [
    "<code> L[-1] </code> retourne le dernier élément de la liste <code> L </code>. Tester cette commande. Que retourne <code>L[-2]</code> ? "
   ]
  },
  {
   "cell_type": "code",
   "execution_count": null,
   "metadata": {},
   "outputs": [],
   "source": [
    "# Modifie cette ligne"
   ]
  },
  {
   "cell_type": "markdown",
   "metadata": {},
   "source": [
    "#### II.2.3) Modifier une liste"
   ]
  },
  {
   "cell_type": "markdown",
   "metadata": {},
   "source": [
    "<b> Une liste est un objet <u> mutable </u>. On peut donc modifier les éléments d'une liste. Nous pouvons modifier le 3e élément en faisant : "
   ]
  },
  {
   "cell_type": "code",
   "execution_count": 4,
   "metadata": {},
   "outputs": [
    {
     "name": "stdout",
     "output_type": "stream",
     "text": [
      "[1, 2, \"J'ai changé\", 4, 5, 6]\n"
     ]
    }
   ],
   "source": [
    "L[2] = \"J'ai changé\"\n",
    "print(L)"
   ]
  },
  {
   "cell_type": "markdown",
   "metadata": {},
   "source": [
    "Le premier élément a toujours l'indice 0."
   ]
  },
  {
   "cell_type": "markdown",
   "metadata": {},
   "source": [
    "#### II.2.4) Longueur de liste"
   ]
  },
  {
   "cell_type": "markdown",
   "metadata": {},
   "source": [
    "Il est possible de connaître le nombre d’éléments d’une liste. Pour cela on utilise la fonction : <code>len</code>. <code>len(L)</code> retourne le nombre de variable que contient la liste <code>L</code>."
   ]
  },
  {
   "cell_type": "code",
   "execution_count": 5,
   "metadata": {},
   "outputs": [
    {
     "data": {
      "text/plain": [
       "4"
      ]
     },
     "execution_count": 5,
     "metadata": {},
     "output_type": "execute_result"
    }
   ],
   "source": [
    "L = [1,2,3,4]\n",
    "len(L)"
   ]
  },
  {
   "cell_type": "markdown",
   "metadata": {},
   "source": [
    "### II.3) Manipulation de listes\n",
    "#### II.3.1) Concaténation"
   ]
  },
  {
   "cell_type": "markdown",
   "metadata": {},
   "source": [
    "Il est possible de concaténer deux listes (i.e. les coller l’une après l’autre). Notons <code>L</code> et <code>V</code> deux listes. On peut créer une nouvelle liste <code>W</code> en concaténant les listes <code>L</code> et <code>V</code>.\n",
    "Pour concaténer, on utilise le \"+\" : <code>W = L + V</code>."
   ]
  },
  {
   "cell_type": "code",
   "execution_count": 6,
   "metadata": {},
   "outputs": [
    {
     "data": {
      "text/plain": [
       "[1, 2, 3, 4, 6, 7]"
      ]
     },
     "execution_count": 6,
     "metadata": {},
     "output_type": "execute_result"
    }
   ],
   "source": [
    "L = [1,2,3]\n",
    "V = [4,6,7]\n",
    "W = L + V\n",
    "W"
   ]
  },
  {
   "cell_type": "markdown",
   "metadata": {},
   "source": [
    "#### II.3.2) Ajouter un élément"
   ]
  },
  {
   "cell_type": "markdown",
   "metadata": {},
   "source": [
    "Il existe différentes méthodes pour ajouter un élément à une liste.\n",
    "1. La première méthode (la plus commune) est append (·). Cela permet d’ajouter un élément à droite (à la fin) de la liste. Continuons avec la même liste <code>L = [1, 2, 3, 4, 5, 6]</code>. Ici <code>L.append(7)</code> va ajouter un 7 à la fin de la liste."
   ]
  },
  {
   "cell_type": "code",
   "execution_count": 7,
   "metadata": {},
   "outputs": [
    {
     "data": {
      "text/plain": [
       "[1, 2, 3, 4, 5, 6, 7]"
      ]
     },
     "execution_count": 7,
     "metadata": {},
     "output_type": "execute_result"
    }
   ],
   "source": [
    "L = [1,2,3,4,5,6]\n",
    "L.append(7)\n",
    "L"
   ]
  },
  {
   "cell_type": "markdown",
   "metadata": {},
   "source": [
    "2. La seconde méthode est de concaténer avec une liste à un élément."
   ]
  },
  {
   "cell_type": "code",
   "execution_count": 8,
   "metadata": {},
   "outputs": [],
   "source": [
    "# Fait le "
   ]
  },
  {
   "cell_type": "markdown",
   "metadata": {},
   "source": [
    "3. La méthode <code>insert(i, .)</code> ajoute un élément <code> . </code> à une liste existante à la position <code> i </code>. Tous les éléments d'indice supérieurs à <code> i </code> sont décalés vers la droite. "
   ]
  },
  {
   "cell_type": "code",
   "execution_count": null,
   "metadata": {},
   "outputs": [],
   "source": [
    "L = [1,2,4]\n",
    "L.insert(1,4)\n",
    "L"
   ]
  },
  {
   "cell_type": "markdown",
   "metadata": {},
   "source": [
    "#### II.3.3) Retirer un élément\n",
    "\n",
    "On a ajouté un élément, modifié un élément, voyons maintenant comment retirer un élément d'une liste.\n",
    "\n",
    "* <b> Supprimer une entrée avec un index"
   ]
  },
  {
   "cell_type": "code",
   "execution_count": 10,
   "metadata": {},
   "outputs": [
    {
     "data": {
      "text/plain": [
       "['a', 'c']"
      ]
     },
     "execution_count": 10,
     "metadata": {},
     "output_type": "execute_result"
    }
   ],
   "source": [
    "L = [\"a\",\"b\",\"c\"]\n",
    "del L[1]\n",
    "L"
   ]
  },
  {
   "cell_type": "markdown",
   "metadata": {},
   "source": [
    " * <b> Supprimer une entrée avec sa valeur </b>\n",
    "\n",
    "Attentio on ne supprime alors que l'entré la plus à gauche avec cette valeur."
   ]
  },
  {
   "cell_type": "code",
   "execution_count": 11,
   "metadata": {},
   "outputs": [
    {
     "data": {
      "text/plain": [
       "[1, 3, 3, 5, 2]"
      ]
     },
     "execution_count": 11,
     "metadata": {},
     "output_type": "execute_result"
    }
   ],
   "source": [
    "L = [1,2,3,3,5,2]\n",
    "L.remove(2)\n",
    "L"
   ]
  },
  {
   "cell_type": "markdown",
   "metadata": {},
   "source": [
    "### III.4) Programmer avec les listes\n",
    "#### III.4.1) Parcourir une liste"
   ]
  },
  {
   "cell_type": "markdown",
   "metadata": {},
   "source": [
    "Pour essayer de comprendre ce que signifie parcourir une liste, nous allons travailler sur un exemple : une liste de personnage \"célèbre\". Considérons la liste suivante :\n",
    "<code>L = [\"Asterix\",\"Obélix\",\"Idéfix\",\"Panoramix\",\"James Bond\",\"Harry Potter\"]</code>. Faisons afficher ces personnages un à un."
   ]
  },
  {
   "cell_type": "code",
   "execution_count": null,
   "metadata": {},
   "outputs": [],
   "source": [
    "L = [\"Asterix\",\"Obélix\",\"Idéfix\",\"Panoramix\",\"James Bond\",\"Harry Potter\"]\n",
    "for personnage in L:\n",
    "    print(personnage)"
   ]
  },
  {
   "cell_type": "markdown",
   "metadata": {},
   "source": [
    "---\n",
    "> <span style=\"color:Red\"> **_Exercice_:** </span>\n",
    "> Considérons une seconde liste (en plus de celle précédente) : \n",
    "> <code> B = [\"la marmite de potion magique\", \"la marmite de jus de citrouille\", \"l’eau\"] </code>. Voici un petit programme qui montre que ces personnages ne sont pas toujours adroits. Il manque un point à chacune de ces phrases, modifier le programme précédent pour avoir ce point.\n",
    "> \n",
    "---"
   ]
  },
  {
   "cell_type": "code",
   "execution_count": 14,
   "metadata": {},
   "outputs": [
    {
     "name": "stdout",
     "output_type": "stream",
     "text": [
      " Asterix est tombé dans la marmite de jus de citrouille\n",
      " Obélix est tombé dans l’eau\n",
      " Idéfix est tombé dans la marmite de jus de citrouille\n",
      " Panoramix est tombé dans l’eau\n",
      " James Bond est tombé dans l’eau\n",
      " Harry Potter est tombé dans l’eau\n"
     ]
    }
   ],
   "source": [
    "L = [\"Asterix\",\"Obélix\",\"Idéfix\",\"Panoramix\",\"James Bond\",\"Harry Potter\"]\n",
    "B = [\"la marmite de potion magique\", \"la marmite de jus de citrouille\", \"l’eau\"]\n",
    "import random as rd\n",
    "for personnage in L:\n",
    "    print(f\" {personnage} est tombé dans {B[rd.randint(1,2)]}\")"
   ]
  },
  {
   "cell_type": "markdown",
   "metadata": {},
   "source": [
    "### III.5) Parcourir une liste avec <code> range </code>"
   ]
  },
  {
   "cell_type": "markdown",
   "metadata": {},
   "source": [
    "Pour parcourir les éléments d’une liste, nous pouvons utiliser l’indexation de la liste. Voici un exemple."
   ]
  },
  {
   "cell_type": "code",
   "execution_count": 15,
   "metadata": {},
   "outputs": [
    {
     "name": "stdout",
     "output_type": "stream",
     "text": [
      "3\n",
      "2\n",
      "4\n",
      "1\n",
      "5\n"
     ]
    }
   ],
   "source": [
    "L = [3,2,4,1,5]\n",
    "for k in range(len(L)):\n",
    "    print(L[k])"
   ]
  },
  {
   "cell_type": "markdown",
   "metadata": {},
   "source": [
    "---\n",
    "> <span style=\"color:Red\"> **_Exercice_:** </span>\n",
    "> Déterminer le nombre d'éléments d'une liste à l'aide d'une boucle <code> for </code>\n",
    "> \n",
    "---"
   ]
  },
  {
   "cell_type": "markdown",
   "metadata": {},
   "source": [
    "### III.6) Méthode <code> pop </code>\n",
    "\n",
    "La méthode <code>.pop()</code> supprime et renvoie le dernier élément d’une liste existante. La méthode <code>.pop(·)</code> avec l’argument optionnel index <code·</code> supprime et renvoie l’élément à la position <code> . </code> "
   ]
  },
  {
   "cell_type": "markdown",
   "metadata": {},
   "source": [
    "---\n",
    "> <span style=\"color:Red\"> **_Exercice_:** </span>\n",
    "> 1. Créer une liste des jours de la semaine\n",
    "> 2. Par deux méthodes différentes, retirer le dernier élément de la liste\n",
    "> 3. Supprimer et renvoyer le premier élément de la liste.\n",
    "---"
   ]
  },
  {
   "cell_type": "markdown",
   "metadata": {},
   "source": [
    "### III.7) Exercices"
   ]
  },
  {
   "cell_type": "markdown",
   "metadata": {},
   "source": [
    "---\n",
    "> <span style=\"color:Red\"> **_Exercice_:** </span>\n",
    "> Écrivez un programme qui réalise les différentes instructions suivantes successivement :\n",
    "> * crée une liste contenant 7 entiers ;\n",
    "> * affiche le deuxième élément de la liste ;\n",
    "> * affecte la valeur 8 au troisième élément de la liste ;\n",
    "> * affecte la moyenne des deux premiers éléments de la liste au dernier élément de la liste ;\n",
    "> * affiche 10 fois de suite l’avant-dernier élément de la liste.\n",
    "---"
   ]
  },
  {
   "cell_type": "code",
   "execution_count": null,
   "metadata": {},
   "outputs": [],
   "source": []
  },
  {
   "cell_type": "markdown",
   "metadata": {},
   "source": [
    "---\n",
    "> <span style=\"color:Red\"> **_Exercice_:** </span>\n",
    "> Réalisez une fonction Python qui prend une liste en entrée et renvoie en sortie la liste\n",
    "renversée (par exemple, pour l’entrée [2,7,8,1], la fonction renvoie [1,8,7,2]).\n",
    "---"
   ]
  },
  {
   "cell_type": "code",
   "execution_count": null,
   "metadata": {},
   "outputs": [],
   "source": []
  },
  {
   "cell_type": "markdown",
   "metadata": {},
   "source": [
    "---\n",
    "> <span style=\"color:Red\"> **_Exercice_:** </span>\n",
    "> Réalisez une fonction Python qui prend en entrée une liste de nombres et renvoie en\n",
    "sortie une liste contenant deux éléments : le plus petit et le plus grand élément de la\n",
    "liste.\n",
    "---"
   ]
  },
  {
   "cell_type": "code",
   "execution_count": null,
   "metadata": {},
   "outputs": [],
   "source": []
  },
  {
   "cell_type": "markdown",
   "metadata": {},
   "source": [
    "---\n",
    "> <span style=\"color:Red\"> **_Exercice_:** </span>\n",
    "> 1. Réalisez une fonction qui calcule la somme des éléments d’une liste de nombres à l’aide d’une boucle.\n",
    "> 2. Réalisez une fonction qui calcule la moyenne des éléments d’une liste à partir de cette liste.\n",
    "---"
   ]
  },
  {
   "cell_type": "code",
   "execution_count": null,
   "metadata": {},
   "outputs": [],
   "source": []
  },
  {
   "cell_type": "markdown",
   "metadata": {},
   "source": [
    "## IV) Dictionnaire\n",
    "### IV.1) Définition et création"
   ]
  },
  {
   "cell_type": "markdown",
   "metadata": {},
   "source": [
    "---\n",
    "> <span style=\"color:Green\"> **_Définition_:** </span>\n",
    ">   \n",
    "> Un dictionnaire en Python est un objet contenant des paires de clés-valeurs.\n",
    ">* Les clés sont des éléments non modifiables et doivent être uniques. Elles ont\n",
    "pour types des objets immuables comme les entiers, les chaînes de caractères,\n",
    "les tuples.\n",
    ">* Les valeurs associées au clés sont elles modifiables et peuvent être de n’importe quel type\n",
    ">\n",
    ">\n",
    ">\n",
    "---"
   ]
  },
  {
   "cell_type": "markdown",
   "metadata": {},
   "source": [
    "<b>Remarques :</b>\n",
    "* Un dictionnaire est non ordonné.\n",
    "* Un dictionnaire est modifiable, on peut modifier ses valeurs, ajouter ou supprimer des éléments après sa création"
   ]
  },
  {
   "cell_type": "markdown",
   "metadata": {},
   "source": [
    "<b>Exemples :</b>\n",
    "1. On crée un dictionnaire vide soit en utilisant la commande dict(), soit en utilisant\n",
    "des accolades {}.\n"
   ]
  },
  {
   "cell_type": "code",
   "execution_count": 1,
   "metadata": {},
   "outputs": [],
   "source": [
    "dico_1 = dict() #On crée un dico vide\n",
    "dico_2 = {} # On crée un autre dico vide"
   ]
  },
  {
   "cell_type": "code",
   "execution_count": 2,
   "metadata": {},
   "outputs": [
    {
     "data": {
      "text/plain": [
       "{}"
      ]
     },
     "execution_count": 2,
     "metadata": {},
     "output_type": "execute_result"
    }
   ],
   "source": [
    "dico_1"
   ]
  },
  {
   "cell_type": "markdown",
   "metadata": {},
   "source": [
    "2.  Pour créer un dictionnaire directement avec des paires clés-valeurs, on utilise\n",
    "exclusivement les accolades. Une valeur est associée à une clé selon la syntaxe\n",
    "clé : valeur et les différente paires sont séparées par des virgules. "
   ]
  },
  {
   "cell_type": "code",
   "execution_count": null,
   "metadata": {},
   "outputs": [],
   "source": [
    "pokemon1 = { \"nom\": \"bulbizarre\" , \"type\": \"plante\"}\n",
    "pokemon2 = {\"nom\": \"herbizarre\", \"type\": \"plante\"}\n",
    "pokedex ={1: pokemon1 ,2: pokemon2 } # dictionnaire de dictionnaires !"
   ]
  },
  {
   "cell_type": "markdown",
   "metadata": {},
   "source": [
    "On remarquera ici que les clés sont bien uniques au sein de leurs dictionnaires même si des dictionnaires différents les partagent."
   ]
  },
  {
   "cell_type": "markdown",
   "metadata": {},
   "source": [
    "---\n",
    "> <span style=\"color:Red\"> **_Exercice_:** </span>\n",
    "> L'objectif de cet exercice et des suivants est de compléter notre pokédex.\n",
    "> 1. Créer un dictionnaire vide <code>pokedex3</code>\n",
    "> 2. Créer un dictionnaire <code>pokemon4</code> pour Salamèche avec la clé ’nom’ (on s’occupera du type plus tard)\n",
    "---"
   ]
  },
  {
   "cell_type": "markdown",
   "metadata": {},
   "source": [
    "### IV.2) Ajout d'un élément à un dictionnaire"
   ]
  },
  {
   "cell_type": "markdown",
   "metadata": {},
   "source": [
    "On peut ajouter un couple clé-valeur à un dictionnaire à condition que la clé soit\n",
    "bien unique. Pour cela, il suffit de faire <code>dictionnaire[clé]=valeur</code>.\n"
   ]
  },
  {
   "cell_type": "markdown",
   "metadata": {},
   "source": [
    "<b> Exemple : </b>\n",
    "\n",
    "On ajoute au dictionnaire <code>pokemon3</code> le couple clé-valeur ’nom’-’florizarre’ en faisant :"
   ]
  },
  {
   "cell_type": "code",
   "execution_count": null,
   "metadata": {},
   "outputs": [],
   "source": [
    "pokemon3[\"nom\"] = \"florizarre\""
   ]
  },
  {
   "cell_type": "markdown",
   "metadata": {},
   "source": [
    "---\n",
    "> <span style=\"color:Red\"> **_Exercice_:** </span>\n",
    "> Ajouter au dictionnaire pokemon3 le type de Florizarre puis le dictionnaire pokemon3 au podédex.\n",
    "---"
   ]
  },
  {
   "cell_type": "markdown",
   "metadata": {},
   "source": [
    "### IV.3) Modification d'un élément d'un dictionnaire\n",
    "\n",
    "On peut modifier la valeur associée à une clé mais pas cette. Pour cela, on utilise à nouveau la commande <code>dictionnaire[clé]=valeur</code>.\n",
    "\n",
    "\n",
    "\n",
    "<b> Exemple </b>\n",
    "\n",
    "On a crée un dictionnaire pour Carapuce mais celui-ci n’a pas le bon type, on le\n",
    "modifie donc pour corriger cela"
   ]
  },
  {
   "cell_type": "code",
   "execution_count": 1,
   "metadata": {},
   "outputs": [],
   "source": [
    "pokemon7 = {'nom' : \"carapuce\",\"type\":\"foudre\"}\n",
    "pokemon7[\"type\"] = \"eau\""
   ]
  },
  {
   "cell_type": "markdown",
   "metadata": {},
   "source": [
    "---\n",
    "> <span style=\"color:Red\"> **_Exercice_:** </span>\n",
    "> Modifier le dictionnaire suivant afin de corriger l'erreur sur le type de Reptincel\n"
   ]
  },
  {
   "cell_type": "code",
   "execution_count": 2,
   "metadata": {},
   "outputs": [],
   "source": [
    "pokemon5 = {\"nom\": \"Reptincel\",\"type\": \"psy\",\"exp\":9999}\n",
    "assert pokemon5[\"type\"] == \"psy\", \"Il faut changer le type dans la cellule suivante\""
   ]
  },
  {
   "cell_type": "code",
   "execution_count": null,
   "metadata": {},
   "outputs": [],
   "source": []
  },
  {
   "cell_type": "markdown",
   "metadata": {},
   "source": [
    "---"
   ]
  },
  {
   "cell_type": "markdown",
   "metadata": {},
   "source": [
    "### IV.4) Suppression d'un élément d'un dictionnaire"
   ]
  },
  {
   "cell_type": "markdown",
   "metadata": {},
   "source": [
    "On peut supprimer un couple clé-valeur d’un dictionnaire en indiquant la clé du couple à supprimer grâce à la commande <code>dico.pop(clé)</code>.\n",
    "\n",
    "\n",
    "<b>Exemple :</b>\n",
    "\n",
    "On a récupéré un dictionnaire pour Dracaufeu mais celui-ci comporte l’élément ’plat favori’ dont on ne veut pas, on le supprime donc"
   ]
  },
  {
   "cell_type": "code",
   "execution_count": null,
   "metadata": {},
   "outputs": [],
   "source": [
    "pokemon6 = {\"nom\":\"dracaufeu\",\"type\":\"feu\",\"plat favoris\":\"risotto au piment rouge\"}\n",
    "pokemon6.pop(\"plat favori\")"
   ]
  },
  {
   "cell_type": "markdown",
   "metadata": {},
   "source": [
    "---\n",
    "> <span style=\"color:Red\"> **_Exercice_:** </span>\n",
    "> Supprimer l'élément \"exp\" du dictionnaire de reptincel\n",
    "---"
   ]
  },
  {
   "cell_type": "code",
   "execution_count": null,
   "metadata": {},
   "outputs": [],
   "source": []
  },
  {
   "cell_type": "markdown",
   "metadata": {},
   "source": [
    "### IV.5) Fusion de deux dictionnaires\n",
    "\n",
    "On peut fusionner deux dictionnaires grâce à la commande <code>dico1.update(dico2)</code>.\n",
    "\n",
    "\n",
    "<b>Exemple :</b>\n",
    "\n",
    "On crée le dictionnaire typePlante et on le fusionne avec pokemon3"
   ]
  },
  {
   "cell_type": "code",
   "execution_count": null,
   "metadata": {},
   "outputs": [],
   "source": [
    "type_plante = {\"type\" : \"plante\"}\n",
    "pokemon3.update(type_plante)\n",
    "print(pokemon3)"
   ]
  },
  {
   "cell_type": "markdown",
   "metadata": {},
   "source": [
    "---\n",
    "> <span style=\"color:Red\"> **_Exercice_:** </span>\n",
    "> Créer un ductionnaire type_feu sur le modèle de type_plante puis le fusionner avec le dictionnaire de salamèche.\n",
    "---"
   ]
  },
  {
   "cell_type": "code",
   "execution_count": null,
   "metadata": {},
   "outputs": [],
   "source": []
  },
  {
   "cell_type": "markdown",
   "metadata": {},
   "source": [
    "### IV.6) Parcours d'un dictionnaire\n",
    "\n",
    "On peut parcourir un dictionnaire selon ses clés, ses valeurs ou ses couples clé-valeur grâce aux commandes suivantes : \n",
    "\n",
    "\n",
    "|Parcours selon| Clés | Valeurs | Couple clé-valeurs|\n",
    "|---|---|---|---|\n",
    "|Commande pour <code> dico </code>| <code>dico.keys() </code> | <code> dico.values() </code>| <code> dico.items() |\n"
   ]
  },
  {
   "cell_type": "markdown",
   "metadata": {},
   "source": [
    "<b> Exemples </b>"
   ]
  },
  {
   "cell_type": "markdown",
   "metadata": {},
   "source": [
    "* L'algorithme suivant permet de parcourir le dictionnaire <code>pokemon1</code> selon ses clés. Affichez les !"
   ]
  },
  {
   "cell_type": "code",
   "execution_count": null,
   "metadata": {},
   "outputs": [],
   "source": [
    "for cle in pokemon1.keys():\n",
    "    print(cle)"
   ]
  },
  {
   "cell_type": "markdown",
   "metadata": {},
   "source": [
    "* L'algorithme suivant permet de parcourir le dictionnaire <code>pokemon1</code> selon ses valeurs. Affichez les ! "
   ]
  },
  {
   "cell_type": "code",
   "execution_count": null,
   "metadata": {},
   "outputs": [],
   "source": [
    "for valeur in pokemon1.values():\n",
    "    print(valeur)"
   ]
  },
  {
   "cell_type": "markdown",
   "metadata": {},
   "source": [
    "* L'algorithme suivant permet de parcourir le dictionnaire <code>pokemon1</code> selon les couples clé-valeur. Affichez les !"
   ]
  },
  {
   "cell_type": "code",
   "execution_count": null,
   "metadata": {},
   "outputs": [],
   "source": [
    "for cle,valeur in pokemon1.items():\n",
    "    print(cle,valeur)"
   ]
  },
  {
   "cell_type": "markdown",
   "metadata": {},
   "source": [
    "---\n",
    "> <span style=\"color:Red\"> **_Exercice_:** </span>\n",
    "> 1. Que va renvoyer le dictionnaire <code> pokedex </code> selon qu'il soit parcouru par ses : \n",
    ">   * clés ?\n",
    ">   * valeurs ?\n",
    ">   * couples ? \n",
    "> 2. Programmer en Python le parcours du pokédex\n",
    "---"
   ]
  }
 ],
 "metadata": {
  "interpreter": {
   "hash": "11938c6bc6919ae2720b4d5011047913343b08a43b18698fd82dedb0d4417594"
  },
  "kernelspec": {
   "display_name": "Python 3.9.10 64-bit",
   "language": "python",
   "name": "python3"
  },
  "language_info": {
   "codemirror_mode": {
    "name": "ipython",
    "version": 3
   },
   "file_extension": ".py",
   "mimetype": "text/x-python",
   "name": "python",
   "nbconvert_exporter": "python",
   "pygments_lexer": "ipython3",
   "version": "3.9.10"
  },
  "orig_nbformat": 4
 },
 "nbformat": 4,
 "nbformat_minor": 2
}
