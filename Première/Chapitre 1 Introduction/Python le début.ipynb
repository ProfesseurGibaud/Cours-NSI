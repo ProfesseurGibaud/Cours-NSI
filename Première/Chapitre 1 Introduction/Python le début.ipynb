{
 "cells": [
  {
   "cell_type": "markdown",
   "metadata": {},
   "source": [
    "# Algorithme et Programmation\n",
    "\n",
    "## I) Introduction\n",
    "### I.1) Définition\n",
    "\n",
    "À l’ère du numérique, des smartphones et des réseaux sociaux, qui n’a pas entendu\n",
    "parler des algorithmes ? Et pour cause, ils sont omniprésents dans notre quotidien. Ils\n",
    "sont à la base de nos applis et de nos ordinateurs, de la télécommunication et d’inter-\n",
    "net. Sans eux, la technologie contemporaine ne pourrait exister.\n",
    "\n",
    "Pourtant, si tout le monde a entendu parler des algorithmes, très peu sont capables\n",
    "de dire ce qu’est un algorithme. Cette méconnaissance entraîne tantôt de la fascina-\n",
    "tion, tantôt de la crainte, alors que la notion d’algorithme n’est peut-être pas aussi\n",
    "complexe qu’on pourrait le penser. D’ailleurs, beaucoup de personnes utilisent di-\n",
    "rectement des algorithmes sans le savoir. Peut-être seriez vous capable de citer des\n",
    "exemples d’algorithmes que vous utilisez vous-même régulièrement ?\n",
    "\n",
    "Si les algorithmes sont à la base de la programmation informatique, et donc du\n",
    "fonctionnement de nos applis, leur première utilisation est bien antérieure à l’inven-\n",
    "tion de l’ordinateur. D’ailleurs, celle-ci précède même la vie du mathématicien persan\n",
    "Muhammad Ibn M  ̄us ̄a al-Khuw ̄arizm ̄ı (circa 780-850) dont le nom sous sa forme la-\n",
    "tinisée, Algorizmi, est à l’origine du mot algorithme. En effet, la plus ancienne trace\n",
    "retrouvée de la description d’un algorithme date de plus de 4500 ans. Il s’agit d’une\n",
    "tablette d’argile sumérienne qui détaille un algorithme de division."
   ]
  },
  {
   "cell_type": "markdown",
   "metadata": {},
   "source": [
    "---\n",
    "> <span style=\"color:Green\"> **_Définition_:** </span>\n",
    ">   \n",
    "> Un <b><u>algorithme</u></b> est une séquence <b><u>finie</u></b> et <b><u>univoque</u></b> d’instructions permettant de résoudre une classe de problèmes\n",
    ">\n",
    ">\n",
    ">\n",
    "---"
   ]
  },
  {
   "cell_type": "markdown",
   "metadata": {},
   "source": [
    "> <span style=\"color:Orange\"><u><b> Exemple 1:</b></u></span>\n",
    "> \n",
    "> L'addition avec retenue est un algorithme que vous connaissez et utilisez depuis le primaire ! Il permet d'additionner deux entiers positifs quels qu'ils soient.\n",
    "> "
   ]
  },
  {
   "cell_type": "markdown",
   "metadata": {},
   "source": [
    "### I.2) Le code\n",
    "\n",
    "Les algorithmes sont importants en mathématiques comme en informatique parce\n",
    "qu’ils définissent des protocoles très précis permettant d’accomplir une tâche parti-\n",
    "culière autant de fois que nécessaire, sans jamais se tromper, ni avoir à se demander\n",
    "comment faire : il suffit de suivre les instructions. C’est un peu comme une recette de cuisine mais pour laquelle on est certain que le plat sera réussi à chaque fois si l’on suit\n",
    "correctement les étapes. Pour garantir cette réussite systématique, l’algorithme doit\n",
    "être présenté dans un langage simplifié qui ne tolère pas les double-sens ou les approximations : <span style=\"color:Orange\"><b><u>le code</u></b></span>. C’est en cela qu’un algorithme diffère d’une recette de cuisine\n",
    "ou d’un mode d’emploi qui sont eux écrits en langage naturel.\n",
    "\n",
    "Il existe de très nombreux langages différents pour écrire du code, notamment en\n",
    "informatique, où l’on parle de <span style=\"color:Orange\"><b><u>langage de programmation</u></b></span>. Lorsqu’un algorithme est\n",
    "écrit dans un langage de programmation particulier, on dit qu’il est implémenté dans\n",
    "ce langage (on utilise aussi le terme <span style=\"color:Orange\"><b><u>implémentation</u></b></span> ). Dans ce cours, nous utiliserons\n",
    "le langage de programmation Python qui est au programme du lycée. Nous utiliserons\n",
    "également le <span style=\"color:Orange\"><b><u>pseudo-code</u></b></span> qui est un langage intermédiaire entre le langage naturel et\n",
    "le code à proprement parler."
   ]
  },
  {
   "cell_type": "markdown",
   "metadata": {},
   "source": [
    "> <span style=\"color:Orange\"><u> <b>Exemple 2:</b></u></span>\n",
    ">  \n",
    "> Voici un exemple d'une séquence d'instructions en pseudo et de son implémentation en Python.\n",
    "> \n",
    "> Pour k allant de 0 à 9 \n",
    "> \n",
    ">       Faire\n",
    ">\n",
    ">         Afficher k\n",
    "> \n",
    "> Fin Pour\n",
    "\n"
   ]
  },
  {
   "cell_type": "code",
   "execution_count": 3,
   "metadata": {},
   "outputs": [],
   "source": [
    "for k in range(10):\n",
    "    print(k)"
   ]
  },
  {
   "cell_type": "markdown",
   "metadata": {},
   "source": [
    "Pour bien distinguer entre les deux, la séquence en pseudo-code et la séquence en\n",
    "Python sont présentées avec des styles graphiques différents :\n",
    "* le pseudo-code dans un rectangle blanc à bords droits \n",
    "* le code Python dans un rectangle gris à bords ronds.\n",
    "\n",
    "Cette convention sera maintenue tout au long de ce cours afin d’éviter toute confusion\n",
    "entre les deux."
   ]
  },
  {
   "cell_type": "markdown",
   "metadata": {},
   "source": [
    "### I.3) Objectifs du chapitre\n",
    "\n",
    "Dans ce chapitre, vous apprendrez les principes de base pour l’élaboration d’un al-\n",
    "gorithme, son écriture en pseudo-code ainsi que son implémentation en Python. Vous\n",
    "serez également amenés à écrire vos propres algorithmes. \n",
    "\n",
    "Quelques exercices très simples ont été intégrées dans le cours, et vous êtes for-\n",
    "tement encouragées à vérifier les réponses de ces exercices par vous mêmes, en exé-\n",
    "cutant les instructions correspondantes sur votre ordinateur. Ainsi vous pourrez plei-\n",
    "nement appréhender les nouveaux objets que vous découvrirez au fur et à mesure de\n",
    "votre lecture de ce cours."
   ]
  },
  {
   "cell_type": "markdown",
   "metadata": {},
   "source": [
    "### I.4) Executer un code Python en console\n",
    "\n",
    "Pour exécuter un code Python, il faut d’abord installer Python sur votre machine.\n",
    "Aujourd’hui, on peut installer Python sur un ordinateur, une tablette, un téléphone\n",
    "portable et même une calculatrice programmable. En fonction de votre machine et de\n",
    "votre système d’exploitation (Ubuntu/Linux, Windows, Mac OS X, ...), il existe de nom-\n",
    "breuses façons d’installer Python et de nombreux <b><u> <span style=\"color:Orange\"> environnements de développement </b></u></span> différents qui permettent de visualiser le code que l’on programme avant de l’exécuter.\n",
    "\n",
    "Si vous vous y connaissez déjà en programmation, vous êtes libres de choisir l’environ-\n",
    "nement qui vous convient le mieux. Pour les autres, nous vous conseillons l’utilisation\n",
    "de l’environnement de développement <b>VsCode</b> installé sur votre ordinateur via la distri-\n",
    "bution de base Python3."
   ]
  },
  {
   "cell_type": "markdown",
   "metadata": {},
   "source": [
    "## II) Variables et instructions élémentaires\n",
    "### II.1) Types de variables "
   ]
  },
  {
   "cell_type": "markdown",
   "metadata": {},
   "source": [
    "En informatique, pour stocker les données, on utilise des <span style = \"Color:Green\"> <b>variables</b></span> . Une variable\n",
    "est définie par un nom qui permet de l’identifier de manière unique. Ce nom permet\n",
    "à l’ordinateur de retrouver la donnée contenue dans sa mémoire qui correspond à la\n",
    "valeur de la variable. Chaque variable est caractérisée par un <span style = \"Color:Green\"> <b> type</b></span> qui correspond au\n",
    "type de donnée qu’elle contient. Il existe de nombreux types de variables différents en\n",
    "informatique mais nous n’en étudierons que quatre à ce stade"
   ]
  },
  {
   "cell_type": "markdown",
   "metadata": {},
   "source": [
    "#### Type booléen \n",
    "Une variable de <span style= \"Color:Green\"> <b>type booléen</b></span> (ou variable booléenne) est une variable qui prend\n",
    "l’une des deux valeurs : <b>vrai</b> ou <b>faux</b>. Le terme booléen est un hommage au grand ma-\n",
    "thématicien et logicien anglais George Boole (1815-1864) considéré comme le père de\n",
    "la logique moderne. En Python, le type booléen se note <code>bool</code> et les valeurs associées\n",
    "«True» et «False» respectivement."
   ]
  },
  {
   "cell_type": "markdown",
   "metadata": {},
   "source": [
    "#### Type entier\n",
    "\n",
    "Le <span style=\"Color:Green\"><b> type entier</b></span> désigne, comme son nom l’indique, des variables entières (qui appartiennent donc à l’ensemble $\\mathbb{N}$). En Python, le type entier se note <code>int</code> (contraction de «integer» qui signifie entier en anglais)."
   ]
  },
  {
   "cell_type": "markdown",
   "metadata": {},
   "source": [
    "#### Type flottant\n",
    "\n",
    "Une variable de <span style = \"Color:Green\"><b> type flottant</b></span> (ou variable flottante) contient un nombre qui s’écrit avec un nombre fini de chiffres après la virgule. Le type flottant se note <code>float</code> en Python (qui signifie flotter en anglais). Attention, la virgule est remplacée par un point\n",
    "dans l’écriture anglo-saxonne des nombres et donc, en particulier, dans le langage Python"
   ]
  },
  {
   "cell_type": "markdown",
   "metadata": {},
   "source": [
    "#### Type chaîne de caractères\n",
    "\n",
    "Une variable de <span style = \"Color:Green\"><b>type chaîne de caractères</b></span> contient du texte. Le terme caractère désigne les caractères typographiques que sont les lettres (minuscules ou majuscules,\n",
    "avec ou sans accents), les chiffres, les signes de ponctuation, etc. Dans le langage Py-\n",
    "thon, ce type est noté <code>str</code> (contraction de «string» qui signifie fil ou enchaînement en\n",
    "anglais). Les chaînes de caractères s’écrivent en Python par du texte entre guillemets\n",
    "simples (par exemple : 'Ceci est un string en Python.') ou guillemets doubles\n",
    "(par exemple : \"Ceci est également un string en Python!\""
   ]
  },
  {
   "cell_type": "markdown",
   "metadata": {},
   "source": [
    "### II.2) Affectation \n",
    "\n",
    "---\n",
    "> <span style=\"color:Green\"> **_Définition_:** </span>\n",
    ">   \n",
    "> L'<b><u>affectation</u></b> d'une valeur à une variable est l'action de donner une valeur à cette variable. \n",
    "> \n",
    ">\n",
    ">\n",
    ">\n",
    "---"
   ]
  },
  {
   "cell_type": "markdown",
   "metadata": {},
   "source": [
    "On l'écrit en python avec le signe \"=\". Le code suivant affecte à $a$ la valeur 3."
   ]
  },
  {
   "cell_type": "code",
   "execution_count": 3,
   "metadata": {},
   "outputs": [],
   "source": [
    "a = 3"
   ]
  },
  {
   "cell_type": "markdown",
   "metadata": {},
   "source": [
    "Maintenant quand l'on regarde ce qu'il y a dans $a$ on aura 3. Lancer (avec le bouton Play ou Maj+Entrée) la cellule suivante."
   ]
  },
  {
   "cell_type": "code",
   "execution_count": null,
   "metadata": {},
   "outputs": [],
   "source": [
    "a"
   ]
  },
  {
   "cell_type": "markdown",
   "metadata": {},
   "source": [
    "Attention, le signe « = » n’a donc pas le même sens en Python qu’en mathématiques !\n",
    "En particulier, en Python, « a = x » n’a pas le même sens que « x = a ».\n",
    "\n",
    "En programmation, il est possible d’affecter et de <b>réaffecter</b> des variables. Dans ce\n",
    "cas, c’est la dernière affectation qui prévaut sur les autres. On peut également mettre à\n",
    "jour une variable en lui réaffectant une valeur qui dépend d’elle-même"
   ]
  },
  {
   "cell_type": "markdown",
   "metadata": {},
   "source": [
    "\n",
    "---\n",
    "> <span style=\"color:red\"> **_Exercice_:**  </span>\n",
    ">\n",
    "> Le code python affecte plusieurs valeurs successives à <code>a</code> en réalisant plusieurs affichages (la fonction <code>print</code> permet de réaliser un affichage en Python).\n",
    "> Sans l'exécuter que va renvoyer la console python lorsque l'on exécute ce code ?\n",
    ">\n",
    "\n"
   ]
  },
  {
   "cell_type": "code",
   "execution_count": 1,
   "metadata": {},
   "outputs": [],
   "source": [
    "a = -3 \n",
    "a = 1 \n",
    "print(a)\n",
    "a = a + 1\n",
    "print(a)\n",
    "\n",
    "#Pour vous empecher d'exécuter le code.\n",
    "assert 1 == 2, \"Il ne faut pas exécuter le code bande de  Coquins\""
   ]
  },
  {
   "cell_type": "markdown",
   "metadata": {},
   "source": [
    "> Réponse : ....................."
   ]
  },
  {
   "cell_type": "markdown",
   "metadata": {},
   "source": [
    "Vérification :"
   ]
  },
  {
   "cell_type": "code",
   "execution_count": 8,
   "metadata": {},
   "outputs": [],
   "source": [
    "a = -3 \n",
    "a = 1 \n",
    "print(a)\n",
    "a = a + 1\n",
    "print(a)"
   ]
  },
  {
   "cell_type": "markdown",
   "metadata": {},
   "source": [
    "---"
   ]
  },
  {
   "cell_type": "markdown",
   "metadata": {},
   "source": [
    "### II.3 Opérations élémentaires\n",
    "\n",
    "À chaque type est associé un ensemble d’opérations. Vous trouverez ici la liste des\n",
    "opérations les plus élémentaires associées aux quatre types décrits précédemment.\n",
    "Tous les types admettent également deux opérations universelles qui sont l’opération\n",
    "de test d’égalité et l’opération de test de différence. L’opération de test d’égalité, no-\n",
    "tée « = » en pseudo-code et « == » en Python, permet de vérifier si deux variables sont\n",
    "égales. L’opération de test de différence, notée « 6 = » en pseudo-code et « != » en Python,\n",
    "permet de vérifier si deux variables sont différentes."
   ]
  },
  {
   "cell_type": "markdown",
   "metadata": {},
   "source": [
    "\n",
    "---\n",
    "> <span style=\"color:red\"> **_Exercice_:**  </span>\n",
    ">\n",
    "> Le code python suivant affecte la valeur 2 à la variable <code> a </code> et la valeur <code>-3</code> à la variable <code>b</code>.\n",
    "\n"
   ]
  },
  {
   "cell_type": "code",
   "execution_count": null,
   "metadata": {},
   "outputs": [],
   "source": [
    "a= 2\n",
    "b = -3\n",
    "print(a ==b)\n",
    "print(a != b)\n"
   ]
  },
  {
   "cell_type": "markdown",
   "metadata": {},
   "source": [
    "---"
   ]
  },
  {
   "cell_type": "markdown",
   "metadata": {},
   "source": [
    "#### Opérations sur les flottants \n",
    "\n",
    "\n",
    "Pour les flottants, on peut utiliser les opérations classiques entre deux nombres :\n",
    "l’addition, la soustraction, la multiplication, la division, l’élévation à la puissance ; ainsi\n",
    "que les comparateurs d’ordre : inférieur ou égal, inférieur strict, supérieur ou égal, su-\n",
    "périeur strict. La liste des symboles utilisés en Python figure dans le tableau ci-dessous :\n",
    "\n",
    "\n",
    "| Opération mathématique | Expression en python |\n",
    "|-----|-----|\n",
    "| $a+b$ | <code> a+b </code>|\n",
    "|$a -  b$ | <code> a-b</code>|\n",
    "|$a \\times b$ | <code> a*b </code>|\n",
    "|$a/b$ | <code>a/b </code>|\n",
    "|$a^b$ | <code>a**b</code>|\n",
    "|$a\\leq b$ | <code>a <= b </code>|\n",
    "|$a<b$| <code>a<b </code>|\n",
    "|$a \\geq b$|<code> a >= b</code>|\n",
    "|$a>b$ | <code> a > b </code>|"
   ]
  },
  {
   "cell_type": "markdown",
   "metadata": {},
   "source": [
    "#### Opération sur les entiers\n",
    "\n",
    "Parmi les opérations standards entre deux entiers, on retrouve toutes les opéra-\n",
    "tions décrites pour les flottants auxquelles on peut ajouter le quotient et le reste par la\n",
    "division euclidienne (c’est-à-dire la division entière).\n",
    "\n",
    "|Opération mathématiques | Expression Python |\n",
    "|-----|------|\n",
    "|Quotient de la division entière de $a$ par $b$ | <code> a//b<code>|\n",
    "|Reste de la division entière de $a$ par $b$ | <code> a%b </code> |"
   ]
  },
  {
   "cell_type": "markdown",
   "metadata": {},
   "source": [
    "\n",
    "---\n",
    "> <span style=\"color:red\"> **_Exercice_:**  </span>\n",
    ">\n",
    "> Dans le code suivant que valent les variables <code>a,b,c,d,e,f </code> ?\n",
    "\n"
   ]
  },
  {
   "cell_type": "code",
   "execution_count": null,
   "metadata": {},
   "outputs": [],
   "source": [
    "a = 3 - 1\n",
    "b = 1 + 2\n",
    "c=  a**3\n",
    "d = c / 5\n",
    "e = c //5\n",
    "f = (a <= b)"
   ]
  },
  {
   "cell_type": "markdown",
   "metadata": {},
   "source": [
    "Réponse : .....................\n",
    "\n",
    "---"
   ]
  },
  {
   "cell_type": "markdown",
   "metadata": {},
   "source": [
    "#### Opérations sur les booléens \n",
    "\n",
    "Les opérations standards sur les booléens sont : \n",
    "* la <b> négation </b> au mot clé <b>non </b>\n",
    "* la <b>conjonction</b> associée au mot-clé <b>et </b>\n",
    "* la <b>disjonction</b> associée au mot-clé <b> ou </ou>\n",
    "\n",
    "Elles sont implémentées en Python à l'aide des opérateurs <code>not</code>, <code> and </code> et <code> or </code> respectivement. Si $a$ et $b$ sont deux variables booléennes, on a : \n",
    "* $\\textbf{non}(a)$ vaut <b>vrai </b> si et seulement si $a$ vaut <b>faux </b>\n",
    "* $a$ <b>et</b> $b$ vaut <b>vrai</b> si et seulement si les deux variables $a$ et $b$ sont égales à <b>vrai</b>\n",
    "* $a \\textbf{ ou } b$ vaut <b>vrai</b> si et seulement si l'une au moins des deux variables $a \\textbf{ ou } b$ vaut <b>vrai</b>"
   ]
  },
  {
   "cell_type": "markdown",
   "metadata": {},
   "source": [
    "\n",
    "---\n",
    "> <span style=\"color:red\"> **_Exercice_:**  </span>\n",
    ">\n",
    "> Analysez le code Python suivant. Quelles valeurs prennent les variables booléennes <code>a,b,c </code> ?\n"
   ]
  },
  {
   "cell_type": "code",
   "execution_count": null,
   "metadata": {},
   "outputs": [],
   "source": [
    "a = (0 <1) or (0>2)\n",
    "b = not (1 <2)\n",
    "c = a and b"
   ]
  },
  {
   "cell_type": "markdown",
   "metadata": {},
   "source": [
    "---"
   ]
  },
  {
   "cell_type": "markdown",
   "metadata": {},
   "source": [
    "#### Opérations sur les chaînes de caractère\n",
    "\n",
    "Il existe un certain nombre d’opérations sur les chaînes de caractère en Python\n",
    "mais nous n’en considérons qu’une ici : la concaténation. La concaténation permet\n",
    "de créer une nouvelle chaîne de caractère à partir de deux chaînes de caractère $a$ et $b$,\n",
    "en mettant les caractères de b à la suite des caractères de a. La concaténation de $a$ et $b$\n",
    "en Python se note <code>a + b</code>."
   ]
  },
  {
   "cell_type": "markdown",
   "metadata": {},
   "source": [
    "\n",
    "---\n",
    "> <span style=\"color:red\"> **_Exercice_:**  </span>\n",
    "> On considère le code Python suivant. Que valent les variables <code>a,b,c </code> ?\n",
    "> "
   ]
  },
  {
   "cell_type": "code",
   "execution_count": null,
   "metadata": {},
   "outputs": [],
   "source": [
    "a = \"math\"\n",
    "b = a + \"ematiques\"\n",
    "c = \"ha\"\n",
    "c = c + c\n",
    "d = c*4"
   ]
  },
  {
   "cell_type": "markdown",
   "metadata": {},
   "source": [
    "---"
   ]
  },
  {
   "cell_type": "markdown",
   "metadata": {},
   "source": [
    "### II.4) Instructions conditionnelles \n",
    "\n",
    "<i> Un père dit à son enfant : \"<b>Si</b> tu finis tes légumes, <b>Alors</b> tu auras un dessert\". L'enfant ne finit pas ses légumes mais le père donne quand même à son enfant un dessert. Le père a-t-il menti ? </i>"
   ]
  },
  {
   "cell_type": "markdown",
   "metadata": {},
   "source": [
    "La réponse est non. Et ce n’est pas pour des raisons d’éducation ou de morale. Le\n",
    "père a dit ce qu’il ferait si son enfant finit son dessert mais il n’a rien dit si il ne finissait\n",
    "pas son dessert.\n",
    "\n",
    "Dans un algorithme, on peut choisir qu’une instruction ne s’exécute que si certaines conditions sont remplies. En pseudo-code, on peut utiliser les mots-clés si et\n",
    "alors pour indiquer une condition et la séquence d’instructions à exécuter si la condition est remplie. On peut également utiliser le mot-clé Fin si pour indiquer la fin de\n",
    "la séquence d’instructions conditionnelles. Une instruction conditionnelle peut donc\n",
    "s’écrire en pseudo-code sous la forme suivante :"
   ]
  },
  {
   "cell_type": "markdown",
   "metadata": {},
   "source": [
    "```\n",
    "Si la condition est vraie\n",
    "    Alors faire\n",
    "        instructions\n",
    "Fin Si\n",
    "```"
   ]
  },
  {
   "cell_type": "markdown",
   "metadata": {},
   "source": [
    "En Python, on utilise la commande <code>if</code> associé à l’utilisation des deux points <code>:</code>\n",
    "et d’une indentation (décalage vers la droite des lignes d’instructions 4), selon la forme\n",
    "suivante :"
   ]
  },
  {
   "cell_type": "code",
   "execution_count": null,
   "metadata": {},
   "outputs": [],
   "source": [
    "if condition:\n",
    "    instruction"
   ]
  },
  {
   "cell_type": "markdown",
   "metadata": {},
   "source": [
    "Attention, les règles pour les deux points et l’indentation ne sont pas facultatives et le\n",
    "code ne fonctionnera pas correctement si elles ne sont pas respectées. Par ailleurs, l’indentation doit courir sur l’ensemble des instructions couvertes par la condition (donc éventuellement sur plusieurs lignes).\n",
    "\n",
    "On peut également différencier entre un certain nombre de cas en utilisant les mots-clés <b>« sinon si »</b> et <b>« sinon »</b> en pseudo-code ou les commandes <code>elif</code> et <code>else</code> en Python, selon le schéma qui suit :"
   ]
  },
  {
   "cell_type": "markdown",
   "metadata": {},
   "source": [
    "```\n",
    "Si la condition1 est vraie:\n",
    "    Alors faire\n",
    "        instructions1\n",
    "Sinon si la condtition2 est vraie:\n",
    "    Alors faire\n",
    "        instruction2\n",
    "Sinon si la condition3 est vraie:\n",
    "    Alors faire\n",
    "        instruction3\n",
    "Sinon:\n",
    "    Faire\n",
    "        instruction4\n",
    "Fin si\n",
    "```\n",
    "\n",
    "En python, cela donne : "
   ]
  },
  {
   "cell_type": "code",
   "execution_count": null,
   "metadata": {},
   "outputs": [],
   "source": [
    "if condition1:\n",
    "    instruction1\n",
    "elif condition2:\n",
    "    instruction2\n",
    "elif condition3:\n",
    "    instruction3\n",
    "else:\n",
    "    instruction4"
   ]
  },
  {
   "cell_type": "markdown",
   "metadata": {},
   "source": [
    "\n",
    "---\n",
    "> <span style=\"color:red\"> **_Exercice_:**  </span>\n",
    "> \n",
    "> Deux joueurs s’affrontent aux dés. Le joueur qui obtient la plus grande valeur a gagné. Le programme suivant récupère la valeur obtenue par chacun des joueurs puis\n",
    "annonce qui a gagné la partie (on utilise pour cela les fonctions «<code>int</code>» et «<code>input</code>» de\n",
    "Python qui seront présentées en détails dans la suite de l'année).\n"
   ]
  },
  {
   "cell_type": "code",
   "execution_count": null,
   "metadata": {},
   "outputs": [],
   "source": [
    "d1 = int(input(\"Entrez la valeur obtenue par le joueur 1\"))\n",
    "d2 = int(input(\"Entree la valeur obtenue par le joueur 2\"))\n",
    "if d1 > d2:\n",
    "    print(\"Le joueur 1 a gagné\")\n",
    "elif d2 > d1:\n",
    "    print(\"Le joueur 2 a gagné\")\n",
    "else:\n",
    "    print(\"Match nul ! \")"
   ]
  },
  {
   "cell_type": "markdown",
   "metadata": {},
   "source": [
    "---"
   ]
  },
  {
   "cell_type": "markdown",
   "metadata": {},
   "source": [
    "### II.5) Boucles\n",
    "\n",
    "En algorithmique, les boucles permettent de répéter une séquence d’instructions\n",
    "sans avoir à réécrire la séquence. On distingue deux formes de boucles :\n",
    "* les boucles bornées «pour», pour lesquelles la répétition de la séquence d’instructions correspond au parcours de tous les éléments d’un ensemble fini par une\n",
    "variable ;\n",
    "*  les boucles non bornées «tant que», pour lesquelles la répétition de la séquence\n",
    "d’instruction est soumise à condition de répétition à chaque tour de la boucle.\n",
    "\n",
    "Les boucles bornées sont appelées ainsi parce qu’elles s’arrêtent quand on arrive au\n",
    "bout de l’ensemble fini correspondant. Les boucles non bornées sont appelées ainsi\n",
    "parce qu’elles ne s’arrêtent que si la condition de répétition est fausse."
   ]
  },
  {
   "cell_type": "markdown",
   "metadata": {},
   "source": [
    "#### La boucle bornée «pour»\n",
    "\n",
    "Dans ce cours, on ne considère que les boucles <b>«pour»</b> où la répétition de la séquence correspond au parcours par une variable d’un intervalle d’entiers (par exemple,\n",
    "{4, 5, 6, 7, 8, 9}) et, le plus souvent, un intervalle d’entiers débutant en 0 (par exemple,\n",
    "{0, 1, 2, 3, 4, 5, }). En pseudo-code, on pourra utiliser le mot-clé <b>«pour»</b> en début de boucle\n",
    "et indiquer la fin de cette boucle par un <b>«fin pour»</b>"
   ]
  },
  {
   "cell_type": "markdown",
   "metadata": {},
   "source": [
    "```\n",
    "Pour i allant de 1 à n\n",
    "    Faire \n",
    "        instructions\n",
    "Fin Pour\n",
    "```\n",
    "\n",
    "En Python, on utilise la commande <code>for</code> associée à une instruction de la forme <code> i in range(n)</code> qui signifi que <code>i</code> parcourt l'intervalle $[0,1,2, \\dots,-1]$, et suivie d'un \":\". Une indentation permet ensuite d'indiquer les instructions correspondant à la séquence d'instructions à répéter.\n",
    "\n"
   ]
  },
  {
   "cell_type": "code",
   "execution_count": null,
   "metadata": {},
   "outputs": [],
   "source": [
    "for i in range(n):\n",
    "    instructions #Il va y avoir une erreur"
   ]
  },
  {
   "cell_type": "markdown",
   "metadata": {},
   "source": [
    "#### La boucle non bornée «tant que»\n",
    "\n",
    "Dans la boucle «tant que», la boucle se répète tant qu’une condition de répétition\n",
    "est vraie. En pseudo-code, on peut indiquer le commencement d’une telle boucle par\n",
    "«tant que» et la fin des instructions de la boucle par «fin tant que».\n",
    "\n",
    "```\n",
    "Tant que la condition est vraie\n",
    "    Faire\n",
    "     instructions\n",
    "Fin tant que\n",
    "```"
   ]
  },
  {
   "cell_type": "markdown",
   "metadata": {},
   "source": [
    "En Python, la boucle <b>«tant que»</b> passe par la commande <b>«while»</b>, associée à une\n",
    "condition, et suivie d’un deux points. Comme usuellement en Python, une indentation permet d’indiquer les instructions correspondant à la séquence d’instructions à\n",
    "répéter."
   ]
  },
  {
   "cell_type": "code",
   "execution_count": null,
   "metadata": {},
   "outputs": [],
   "source": [
    "while condition:\n",
    "    instruction"
   ]
  },
  {
   "cell_type": "markdown",
   "metadata": {},
   "source": [
    "Attention, si la condition est toujours vérifiée, la boucle ne s’arrêtera jamais. On dit\n",
    "que le programme tourne en <b>boucle infinie</b>. Généralement, ce n’est pas souhaitable. Il\n",
    "faut donc s’assurer que la condition de répétition puisse passer de la valeur vrai à la\n",
    "valeur faux lors de la séquence d’instructions de la boucle."
   ]
  },
  {
   "cell_type": "markdown",
   "metadata": {},
   "source": [
    "\n",
    "---\n",
    "> <span style=\"color:red\"> **_Exercice_:**  </span>\n",
    ">\n",
    ">Dans le programme Python qui suit, l’une des deux boucles tourne en boucle infinie.\n",
    "Laquelle ?\n",
    ">\n",
    ">Boucle 1 : \n",
    ">```\n",
    ">i = 0\n",
    ">while i >= 0:\n",
    ">   i = i+1\n",
    ">   print(i)\n",
    ">```\n",
    ">\n",
    ">Boucle 2:\n",
    ">```\n",
    ">i = 10\n",
    ">while i>=0:\n",
    ">   i = i-1\n",
    ">   print(i)\n",
    ">```\n",
    ">\n",
    "---"
   ]
  },
  {
   "cell_type": "markdown",
   "metadata": {},
   "source": [
    "On remarquera que dans l’exercice précédent, la variable i est affectée à une va-\n",
    "leur avant le début de la boucle. Ceci est un schéma classique en programmation qui\n",
    "s’appelle l’initialisation. On dit, par exemple, que la variable i est initialisée à 0 avant\n",
    "la première boucle et initialisée à 10 avant la deuxième boucle"
   ]
  },
  {
   "cell_type": "markdown",
   "metadata": {},
   "source": [
    "## Erreurs et bugs\n",
    "\n",
    "* ```SyntaxError``` : Les erreurs de Syntaxe sont dues au non-respect des règles d’écri-\n",
    "ture de Python, comme un oubli de parenthèse ou un manque de \" :\"\n",
    "* ```NameError``` : Les erreurs de définition sont dues à l’usage d’un nom qui n’a pas\n",
    "été défini, par exemple une variable, fonction qui n’a pas été définie.\n",
    "* ```TypeError``` : Les erreurs de type sont dues à des valeurs dont le type n’est pas com-\n",
    "patible avec l’expression dans laquelle elles apparaissent.\n",
    "* <b><i>Erreur d’exécution</i></b> : les erreurs sont dues à des instructions que l’ordinateur ne\n",
    "sait pas exécuter comme une division par zéro.\n",
    "* <b><i>Erreur de logique</i></b> : Ces dernières n’occasionnent pas en général pas de message\n",
    "d’erreur car il s’agit d’erreurs dans logique du programme, qui n’enfreignent pas\n",
    "les règles de Python. Ce sont les erreurs les plus difficiles à résoudre. Une erreur\n",
    "de logique courante est la boucle infinie : le programme ne s’arrête jamais car la\n",
    "condition d’une boucle non bornée ne devient jamais fausse. Dans ce cas, il faut\n",
    "en général interrompre le programme \"de force\" en tapant <b><i>Control-C</i></b>.\n",
    "\n"
   ]
  },
  {
   "cell_type": "markdown",
   "metadata": {},
   "source": []
  }
 ],
 "metadata": {
  "interpreter": {
   "hash": "11938c6bc6919ae2720b4d5011047913343b08a43b18698fd82dedb0d4417594"
  },
  "kernelspec": {
   "display_name": "Python 3.9.10 64-bit",
   "language": "python",
   "name": "python3"
  },
  "language_info": {
   "codemirror_mode": {
    "name": "ipython",
    "version": 3
   },
   "file_extension": ".py",
   "mimetype": "text/x-python",
   "name": "python",
   "nbconvert_exporter": "python",
   "pygments_lexer": "ipython3",
   "version": "3.9.10"
  },
  "orig_nbformat": 4
 },
 "nbformat": 4,
 "nbformat_minor": 2
}
