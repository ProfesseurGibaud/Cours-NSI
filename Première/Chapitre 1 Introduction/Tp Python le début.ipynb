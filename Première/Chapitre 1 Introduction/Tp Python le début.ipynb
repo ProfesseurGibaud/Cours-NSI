{
 "cells": [
  {
   "cell_type": "markdown",
   "metadata": {},
   "source": [
    "# Exercice 1\n",
    "\n",
    "On considère les trois séquences d’instructions suivantes en pseudo-code.\n",
    "\n",
    "1. On suppose que la variable $x$ contient la valeur 2 avant l’exécution de la séquence. Dans chacun des cas, déterminez la valeur dans x après exécution de\n",
    "la séquence.\n",
    "2. Identifiez la ou les séquences pour lesquelles, si $x$ est initialisée à a avant l’exécution de la séquence, alors $x$ contient $(a-1)^2 + (a+1)^2$ après exécution de la\n",
    "séquence"
   ]
  },
  {
   "cell_type": "code",
   "execution_count": null,
   "metadata": {},
   "outputs": [],
   "source": [
    "# Séquence 1 \n",
    "x = 3 # On donne une valeur à x\n",
    "\n",
    "x = x + 1\n",
    "b = x**2\n",
    "a = x - 1\n",
    "c = a**2\n",
    "x = b - c"
   ]
  },
  {
   "cell_type": "code",
   "execution_count": null,
   "metadata": {},
   "outputs": [],
   "source": [
    "# Séquence 2 \n",
    "x = 2 # On donne une valeur à x\n",
    "\n",
    "x = x-1\n",
    "a = x**2\n",
    "x = x+2\n",
    "b = x**2\n",
    "x = a + b"
   ]
  },
  {
   "cell_type": "code",
   "execution_count": null,
   "metadata": {},
   "outputs": [],
   "source": [
    "# Séquence 3\n",
    "x = 4 # On donne une valeur à x\n",
    "\n",
    "a = x - 1\n",
    "b = a**2\n",
    "c = x+1\n",
    "d = c**2\n",
    "x = b + d"
   ]
  },
  {
   "cell_type": "markdown",
   "metadata": {},
   "source": [
    "# Exercice 2\n",
    "Aladin propose le code Python suivant pour échanger la valeur de deux variables $a$ et $b$\n",
    "\n",
    "1. Expliquer pourquoi le code fourni par Aladin ne remplit pas ses objectifs.\n",
    "2. Proposer une autre solution qui échange effectivement les deux variables."
   ]
  },
  {
   "cell_type": "code",
   "execution_count": null,
   "metadata": {},
   "outputs": [],
   "source": [
    "a = 42\n",
    "b = 23\n",
    "a = b\n",
    "b = a"
   ]
  },
  {
   "cell_type": "code",
   "execution_count": null,
   "metadata": {},
   "outputs": [],
   "source": []
  },
  {
   "cell_type": "markdown",
   "metadata": {},
   "source": [
    "# Exercice 3 \n",
    "On considère le code Python suivant.\n",
    "1. Que fait le programme si l’utilisateur rentre la valeur 15 ?\n",
    "2. Et la valeur 1515 ?"
   ]
  },
  {
   "cell_type": "code",
   "execution_count": null,
   "metadata": {},
   "outputs": [],
   "source": [
    "x = int(input(\"Veuillez saisir un nombre entier.\"))\n",
    "if x < 100:\n",
    "    print(\"Votre nombre est bien faible !\")\n",
    "else:\n",
    "    print(\"Quel beau nombre ! \")\n",
    "print(\"Au revoir !\")\n"
   ]
  },
  {
   "cell_type": "markdown",
   "metadata": {},
   "source": [
    "# Exercice 4 \n",
    "\n",
    "À la fête foraine, l’accès aux montagnes russes est réservé aux personnes mesurant\n",
    "au moins 1m20 (compris) et au plus 2m10 (compris). Faites un programme Python\n",
    "qui demande à un utilisateur de rentrer sa taille en mètres et l’informe, en fonction\n",
    "de sa réponse, s’il :\n",
    "* peut monter dans l’attraction ;\n",
    "* est trop petit ;\n",
    "* est trop grand"
   ]
  },
  {
   "cell_type": "code",
   "execution_count": null,
   "metadata": {},
   "outputs": [],
   "source": []
  },
  {
   "cell_type": "markdown",
   "metadata": {},
   "source": [
    "# Exercice 5 \n",
    "On considère le code Python suivant.\n",
    "1. Quelle valeur est contenu dans la variable a après exécution du programme.\n",
    "2. Comment modifier le code pour produire un fou rire."
   ]
  },
  {
   "cell_type": "code",
   "execution_count": null,
   "metadata": {},
   "outputs": [],
   "source": [
    "a = \"A\"\n",
    "for k in range(2):\n",
    "    a = a + \"ha\"\n",
    "a = a + \"!\"\n",
    "print(a)"
   ]
  },
  {
   "cell_type": "markdown",
   "metadata": {},
   "source": [
    "# Exercice 6\n",
    "\n",
    "Pour chacun des programmes suivants, dire quelle valeur prend la variable $d$ après\n",
    "exécution du programme."
   ]
  },
  {
   "cell_type": "code",
   "execution_count": null,
   "metadata": {},
   "outputs": [],
   "source": [
    "a = 1\n",
    "b = 1\n",
    "c = 1\n",
    "d = 0\n",
    "for k in range(2):\n",
    "    a = a + b\n",
    "    b = b + a\n",
    "    c = c + b\n",
    "    d = d + c"
   ]
  },
  {
   "cell_type": "code",
   "execution_count": null,
   "metadata": {},
   "outputs": [],
   "source": []
  },
  {
   "cell_type": "code",
   "execution_count": null,
   "metadata": {},
   "outputs": [],
   "source": [
    "a = 1\n",
    "b = 1\n",
    "c = 1\n",
    "d = 0\n",
    "for k in range(2):\n",
    "    a = a + b\n",
    "    b = b + a\n",
    "    c = c + b\n",
    "d = d + c"
   ]
  },
  {
   "cell_type": "code",
   "execution_count": null,
   "metadata": {},
   "outputs": [],
   "source": []
  },
  {
   "cell_type": "code",
   "execution_count": null,
   "metadata": {},
   "outputs": [],
   "source": [
    "a = 1\n",
    "b = 1\n",
    "c = 1\n",
    "d = 0\n",
    "for k in range(2):\n",
    "    a = a + b\n",
    "    b = b + a\n",
    "c = c + b\n",
    "d = d + c"
   ]
  },
  {
   "cell_type": "code",
   "execution_count": null,
   "metadata": {},
   "outputs": [],
   "source": []
  },
  {
   "cell_type": "code",
   "execution_count": null,
   "metadata": {},
   "outputs": [],
   "source": [
    "a = 1\n",
    "b = 1\n",
    "c = 1\n",
    "d = 0\n",
    "for k in range(2):\n",
    "    a = a + b\n",
    "b = b + a\n",
    "c = c + b\n",
    "d = d + c"
   ]
  },
  {
   "cell_type": "code",
   "execution_count": null,
   "metadata": {},
   "outputs": [],
   "source": []
  },
  {
   "cell_type": "markdown",
   "metadata": {},
   "source": [
    "# Exercice 7 \n",
    "\n",
    "On considère la séquence d’instructions en pseudo-code qui suit.\n",
    "\n",
    "```\n",
    "x = 3\n",
    "y = 11\n",
    "k = 1\n",
    "Tant que $x<y$\n",
    "    Faire\n",
    "     x = 3x + 2\n",
    "     y = 2y + 1\n",
    "     k = k+1\n",
    "Fin Tant que\n",
    "Afficher k\n",
    "```\n",
    "\n",
    "1. Quelle valeur est affichée lorsque l’on exécute cette séquence ?\n",
    "2. Implémentez cette séquence en Python et exécutez votre code afin de vérifier\n",
    "votre réponse."
   ]
  },
  {
   "cell_type": "code",
   "execution_count": null,
   "metadata": {},
   "outputs": [],
   "source": []
  },
  {
   "cell_type": "markdown",
   "metadata": {},
   "source": [
    "# Exercice 8\n",
    "\n",
    "Un étudiant fauché place 10€ sur son livret A en 2020, rémunéré 0.5% d’intérêt par\n",
    "an. À partir de quelle année cet étudiant aura-t-il au moins 20€ sur son livret ? Réali-\n",
    "sez un code Python qui permette de répondre à la question."
   ]
  },
  {
   "cell_type": "code",
   "execution_count": null,
   "metadata": {},
   "outputs": [],
   "source": []
  },
  {
   "cell_type": "markdown",
   "metadata": {},
   "source": [
    "# Exercice 9\n",
    "\n",
    "En utilisant le package random (taper import random) et la commande random.randint(a,b) qui tire un nombre au hasard en a et b. \n",
    "  1. Faites une boucle conditionnelle tirant au hasard un nombre entre 0 et 50 jusqu’à être le numéro 1.  On affiche le numéro dans la boucle. \n",
    "  2. Cette boucle est elle infini et pourquoi ? \n",
    "  3. Faire une boucle qui tire des nombres au hasard jusqu’à avoir un nombre pair.\n",
    "  4.  Faire une boucle où le nombre augmente de 3 en 3 jusqu’à dépasser le numéro 1802."
   ]
  },
  {
   "cell_type": "code",
   "execution_count": null,
   "metadata": {},
   "outputs": [],
   "source": []
  },
  {
   "cell_type": "markdown",
   "metadata": {},
   "source": [
    "# Exercice 10\n",
    "\n",
    "1. Faire une boucle qui affiche les noms de toute votre famille\n",
    "2. Faire une boucle qui compte tous les nombre de 1 à 1000\n",
    "3. Faire une boucle qui dit le nombre de lettres pour le nom de chaque personne\n",
    "de votre famille (utiliser la fonction len())"
   ]
  },
  {
   "cell_type": "code",
   "execution_count": null,
   "metadata": {},
   "outputs": [],
   "source": []
  }
 ],
 "metadata": {
  "language_info": {
   "name": "python"
  },
  "orig_nbformat": 4
 },
 "nbformat": 4,
 "nbformat_minor": 2
}
