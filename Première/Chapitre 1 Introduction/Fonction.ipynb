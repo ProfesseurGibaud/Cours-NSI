{
 "cells": [
  {
   "cell_type": "markdown",
   "metadata": {},
   "source": [
    "# Les fonctions\n",
    "\n",
    "## I) Les fonctions en Python "
   ]
  },
  {
   "cell_type": "markdown",
   "metadata": {},
   "source": [
    "---\n",
    "\n",
    "1. Comment un informaticien fait bouillir de l’eau avec une\n",
    "casserole vide, un robinet et une plaque chauffante ?\n",
    "Il remplit la casserole, il fait chauffer la casserole jusqu’à ébullition.\n",
    "1. Comment un informaticien fait bouillir de l’eau avec une\n",
    "casserole vide, un robinet et une plaque chauffante ?\n",
    "Il vide la casserole et ré-applique la réponse de la question 1\n",
    "\n",
    "\n",
    "---"
   ]
  },
  {
   "cell_type": "markdown",
   "metadata": {},
   "source": [
    "En informatique, on essaie d’être assez fainéant mais productif, c’est à dire lorsque\n",
    "l’on a fait quelque chose on essaie de le réutiliser. Pour ce faire on utilise des fonctions.\n",
    "Comme en mathématiques, <i>une fonction c’est juste quelque chose en entrée et qui donne\n",
    "quelque chose en sortie</i>. En informatique parfois ce quelque chose c’est rien."
   ]
  },
  {
   "cell_type": "markdown",
   "metadata": {},
   "source": [
    "### I.1) Généralités\n",
    "\n",
    "En Python, il est possible de définir des fonctions. Les fonctions en programmation\n",
    "permettent d’utiliser de multiple fois une séquence d’instructions qui dépendent d’un\n",
    "certain nombre de paramètres (on parle aussi d’arguments). La notion de fonction en\n",
    "informatique diffère légèrement de la notion de fonction en mathématiques qui est\n",
    "présentée la semaine suivante. D’ailleurs, elle peut varier d’un langage de programma-\n",
    "tion à l’autre. On se limite ici uniquement au cas des fonctions en Python.\n",
    "En Python, la définition d’une fonction passe par la définition :\n",
    "* du nom de la fonction ;\n",
    "* de sa liste de paramètres en entrée (qui peut être vide) ;\n",
    "* de la séquence d’instruction dans la fonction ;\n",
    "* de la sortie de la fonction (qui est facultative en Python).\n",
    "Elle prend forme suivante :"
   ]
  },
  {
   "cell_type": "code",
   "execution_count": null,
   "metadata": {},
   "outputs": [],
   "source": [
    "def nom_fonctions(a,b,c):\n",
    "    instructions\n",
    "    return sortie"
   ]
  },
  {
   "cell_type": "markdown",
   "metadata": {},
   "source": [
    "Ici, la première ligne comporte :\n",
    "* la commande def qui indique qu’une fonction va être définie\n",
    "* nom_fonction qui désigne le nom de la fonction (choisie par l’utilisateur) ;\n",
    "* des variables a, b et c qui sont les paramètres de la fonction (dont le nom est choisi par l’utilisateur), ils sont placés entre parenthèses et séparés les uns des\n",
    "autres par des virgule (il peut y en avoir n’importe quel nombre entier, y compris\n",
    "0, dans ce cas on écrit nom_fonction()) ;\n",
    "* un deux points\n",
    "\n",
    "Cette première ligne est suivie, après indentation, de la séquence d’instructions de la\n",
    "fonction qui se termine généralement (mais pas nécessairement) par un renvoi de la\n",
    "fonction indiqué par la commande return. Le renvoi permet de définir une valeur ren-\n",
    "voyée en sortie. Le code d’une fonction peut contenir plusieurs renvois correspondant\n",
    "à différents cas (en utilisant des instructions conditionnelles, par exemple). Toutefois,\n",
    "l’exécution de la fonction n’effectue jamais qu’un seul envoi."
   ]
  },
  {
   "cell_type": "markdown",
   "metadata": {},
   "source": [
    "> <span style=\"color:Orange\"><u> <b>Exemple 1:</b></u></span>\n",
    ">  \n",
    "> La fonction $f$ prend un paramètre $x$ et renvoie la valeur obtenue par l’instruction ```2*x+3```.\n",
    "En mathématiques, elle correspond à une fonction affine de la forme $f : x  \\mapsto 2x + 3$.\n",
    "> "
   ]
  },
  {
   "cell_type": "code",
   "execution_count": null,
   "metadata": {},
   "outputs": [],
   "source": [
    "def f(x):\n",
    "    return 2*x + 3"
   ]
  },
  {
   "cell_type": "markdown",
   "metadata": {},
   "source": [
    "> <span style=\"color:Orange\"><u> <b>Exemple 2:</b></u></span>\n",
    ">  \n",
    "> La fonction <code> puissance </code> prend deux paramètres $a$ et $n$ et renvoie en sortie $a^n$.\n",
    "> \n",
    "> On remarque dans le code suivant que l'indentation de la boucle s'ajoute à l'indentation de la définition de la fonction. \n",
    ">"
   ]
  },
  {
   "cell_type": "code",
   "execution_count": null,
   "metadata": {},
   "outputs": [],
   "source": [
    "def puissance(a,n):\n",
    "    p = 1\n",
    "    for k in range(n):\n",
    "        p = p * a\n",
    "    return p"
   ]
  },
  {
   "cell_type": "markdown",
   "metadata": {},
   "source": [
    "> <span style=\"color:Orange\"><u> <b>Exemple 3:</b></u></span>\n",
    ">  \n",
    "> La fonction ```mini``` prend deux paramètres $a$ et $b$ et renvoie le plus petit des deux. Ici le renvoi dépend d'une instruction conditionnelle.\n",
    "> "
   ]
  },
  {
   "cell_type": "code",
   "execution_count": null,
   "metadata": {},
   "outputs": [],
   "source": [
    "def mini(a,b):\n",
    "    if a<b:\n",
    "        return a\n",
    "    else:\n",
    "        return b"
   ]
  },
  {
   "cell_type": "markdown",
   "metadata": {},
   "source": [
    "> <span style=\"color:Orange\"><u> <b>Exemple 4:</b></u></span>\n",
    ">  \n",
    "> La fonction ```bonjour``` affiche Bonjour! à l'écran. Elle ne prend aucun paramètre et ne fait aucun renvoi.\n",
    "> "
   ]
  },
  {
   "cell_type": "code",
   "execution_count": null,
   "metadata": {},
   "outputs": [],
   "source": [
    "def bonjour():\n",
    "    print(\"Bonjour!\")"
   ]
  },
  {
   "cell_type": "markdown",
   "metadata": {},
   "source": [
    "### I.2) Fonctions prédéfinies\n",
    "\n",
    "Dans Python, un certain nombre de fonctions sont déjà prédéfinies. Elles peuvent\n",
    "donc être utilisées directement sans avoir à les redéfinir. Quelques unes de ces fonc-\n",
    "tions ont déjà été évoquées dans ce cours (print,input). Le tableau suivant contient\n",
    "une liste de fonctions prédéfinies en Python qui pourront vous servir dans le cadre de\n",
    "ce cours. Cette liste n’est bien évidemment pas exhaustive et vous pourrez découvrir\n",
    "les autres fonctions prédéfinies en Python en consultant la documentation disponible\n",
    "via le lien suivant : https://docs.python.org/3/ "
   ]
  },
  {
   "cell_type": "markdown",
   "metadata": {},
   "source": [
    "|Fonction | Description |\n",
    "|---|---|\n",
    "print(x)| Affiche la valeur de $x$ dans la console\n",
    "input(txt)| Affiche le texte de la chaîne de caractères txt dans la console. L’utilisateur doit alors taper une valeur dans la console qui sera renvoyée par la fonction ```input``` dès que l’utilisateur appuie sur la touche *Entrée* du clavier.\n",
    "int(x)| Renvoie la valeur de x convertie en entier lorsque cela est possible.\n",
    "float(x) | Renvoie la valeur de $x$ en float quand c'est possible\n",
    "len(x) | Renvoie le nombre de d'objets (ou de caractères) de $x$\n",
    "abs(x) | Renvoie la valeur absolue de $x$\n",
    "round(x,n)|Renvoie la valeur arrondie de $x$ à $10^{-n}$ près."
   ]
  },
  {
   "cell_type": "markdown",
   "metadata": {},
   "source": [
    "> <span style=\"color:Orange\"><u> <b>Exemple 5:</b></u></span>\n",
    ">  \n",
    "> Dans le code suivant, on utilise les fonctions <code>float,input,print,round</code>\n",
    "> "
   ]
  },
  {
   "cell_type": "code",
   "execution_count": 2,
   "metadata": {},
   "outputs": [
    {
     "name": "stdout",
     "output_type": "stream",
     "text": [
      "La valeur approchée de x à 0.01 près vaut 0.33\n"
     ]
    }
   ],
   "source": [
    "x = float(input(\"Veuillez rentrer une valeur pour x\"))\n",
    "print(f\"La valeur approchée de x à 0.01 près vaut {round(x,2)}\")"
   ]
  },
  {
   "cell_type": "markdown",
   "metadata": {},
   "source": [
    "Remarquez l’encapsulation de la fonction input dans la fonction float. Ceci est nécessaire car la fonction input ne permet que de récupérer le texte taper par l’utilisateur\n",
    "(même si ce texte comporte des nombres). Ainsi, si l’on n’utilise pas la fonction float\n",
    "et que l’utilisateur rentre la valeur 123.3 avant de valider par la touche Entrée, c’est\n",
    "la chaîne de caractère \"123.3\" qui sera stockée dans la variable x. La fonction float\n",
    "permet alors de convertir la chaîne de caractère \"123.3\" en 123.3 qui est un nombre\n",
    "flottant."
   ]
  },
  {
   "cell_type": "markdown",
   "metadata": {},
   "source": [
    "## II) Bibliothèques"
   ]
  },
  {
   "cell_type": "markdown",
   "metadata": {},
   "source": [
    "### II.1) Importer des bibliothèques"
   ]
  },
  {
   "cell_type": "markdown",
   "metadata": {},
   "source": [
    "En plus des fonctions prédéfinies qui sont accessibles directement, Python propose\n",
    "également un certain nombres de bibliothèques (aussi appelés modules) qui contiennent\n",
    "de nombreuses fonctions déjà programmées (ainsi que d’autres objets prédéfinis). Pour\n",
    "utiliser les fonctions d’une bibliothèque, il faut d’abord importer la bibliothèque. La\n",
    "manière la plus simple pour ce faire est d’utiliser la commande import suivi du nom\n",
    "de la bibliothèque."
   ]
  },
  {
   "cell_type": "markdown",
   "metadata": {},
   "source": [
    "> <span style=\"color:Orange\"><u> <b>Exemple 6:</b></u></span>\n",
    ">  \n",
    "> L’instruction suivante permet d’importer la bibliothèque standard math.\n",
    "> ```import math```\n",
    "> \n",
    "> Pour utiliser une fonction d’une bibliothèque (ou n’importe quel autre type d’objet\n",
    "d’une bibliothèque), il suffit alors d’utiliser la syntaxe ```nom_bibliotheque.nom_fonction```"
   ]
  },
  {
   "cell_type": "markdown",
   "metadata": {},
   "source": [
    "> <span style=\"color:Orange\"><u> <b>Exemple 7:</b></u></span>\n",
    ">  \n",
    "> Le code suivant permet d’importer la bibliothèque math dans Python pour utiliser la\n",
    "fonction sqrt qui permet de calculer une racine carrée 2. Ici, on affiche la valeur de $\\sqrt{2}$\n",
    "> ```\n",
    "> import math\n",
    "> print(math.sqrt(2))\n",
    "> ```\n",
    "> Une autre façon d'importer les fonctions et objets d'une bibliothèque est d'utiliser une instruction suivant la syntaxe ci-dessous : \n",
    "> ```\n",
    "> from nom_bibliotheque import *\n",
    "> ```\n",
    ">\n",
    ">Cette instruction permet d'importer toutes les fonctions et objets d'une bibliothèque de manière à ce qu'ils puissent être utilisés sans rappeler le nom de la bibliothèque."
   ]
  },
  {
   "cell_type": "markdown",
   "metadata": {},
   "source": [
    "### II.2) Fonctions aléatoires"
   ]
  },
  {
   "cell_type": "markdown",
   "metadata": {},
   "source": [
    "Le langage Python permet également la définition de <b>fonctions aléatoires</b>. En informatique, une fonction aléatoire est une fonction dont la valeur renvoyée est le résultat d’un tirage aléatoire. Cette valeur n’est donc pas déterminée de manière unique par\n",
    "la valeur des paramètres en entrée de la fonction. La bibliothèque random en Python\n",
    "contient un certain nombre de fonctions aléatoires prédéfinies et notamment la fonc-\n",
    "tion randint qui renvoie un entier compris entre deux valeurs fournies en paramètres\n",
    "de manière aléatoire et selon une loi de probabilité uniforme 3."
   ]
  },
  {
   "cell_type": "markdown",
   "metadata": {},
   "source": [
    "> <span style=\"color:Orange\"><u> <b>Exemple 8:</b></u></span>\n",
    ">  \n",
    "> Dans le code suivant, on importe les fonctions de la bibliothèque ```random``` afin de tirer au hasard soir 0, soit 1.\n",
    "> ``` \n",
    "> import random as rd\n",
    "> print(rd.randint(0,1))\n",
    "> ```\n",
    "> "
   ]
  },
  {
   "cell_type": "markdown",
   "metadata": {},
   "source": [
    "#### Simulation "
   ]
  },
  {
   "cell_type": "markdown",
   "metadata": {},
   "source": [
    "Une <b>simulation</b> est un processus qui calque un phénomène réel dans le but d’en\n",
    "prédire l’issue. Le résultat d’une simulation peut ainsi informer sur le résultat possible\n",
    "du phénomène. On utilise généralement les simulations en informatique pour recréer\n",
    "un phénomène qui coûterait trop cher à réaliser physiquement (comme pour une simulation de crash-test d’avion) ou qui est tout simplement impossible à réaliser phy-\n",
    "siquement (comme pour une simulation de l’évolution climatique du globe terrestre)."
   ]
  },
  {
   "cell_type": "markdown",
   "metadata": {},
   "source": [
    "> <span style=\"color:Orange\"><u> <b>Exemple 10:</b></u></span>\n",
    "> On peut utiliser la fonction <code>randint</code> comme précédemment pour simuler le lancer\n",
    "d’une pièce qui peut tomber sur pile (que l’on fait correspondre au 0) ou face (que l’on\n",
    "fait correspondre au 1). Si un lancer de pièce est facile à réaliser physiquement, le lancer d’un million de pièces par exemple devient plus compliqué alors qu’en simulation\n",
    "cela ne met que quelques secondes sur un ordinateur moderne. Dans le code Python suivant, une simulation permet de comptabiliser combien de fois une pièce tombe sur\n",
    "face en un million de lancers. C’est la variable p qui permet de stocker cette valeur."
   ]
  },
  {
   "cell_type": "code",
   "execution_count": 1,
   "metadata": {},
   "outputs": [],
   "source": [
    "import random as rd\n",
    "p = 0\n",
    "for k in range(1000000):\n",
    "    p = p + rd.randint(0,1)"
   ]
  },
  {
   "cell_type": "code",
   "execution_count": null,
   "metadata": {},
   "outputs": [],
   "source": []
  }
 ],
 "metadata": {
  "interpreter": {
   "hash": "11938c6bc6919ae2720b4d5011047913343b08a43b18698fd82dedb0d4417594"
  },
  "kernelspec": {
   "display_name": "Python 3.9.10 64-bit",
   "language": "python",
   "name": "python3"
  },
  "language_info": {
   "codemirror_mode": {
    "name": "ipython",
    "version": 3
   },
   "file_extension": ".py",
   "mimetype": "text/x-python",
   "name": "python",
   "nbconvert_exporter": "python",
   "pygments_lexer": "ipython3",
   "version": "3.9.10"
  },
  "orig_nbformat": 4
 },
 "nbformat": 4,
 "nbformat_minor": 2
}
