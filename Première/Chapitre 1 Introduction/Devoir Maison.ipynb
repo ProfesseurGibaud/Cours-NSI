{
 "cells": [
  {
   "cell_type": "markdown",
   "metadata": {},
   "source": [
    "# Introduction aux compétences de Programmation"
   ]
  },
  {
   "cell_type": "markdown",
   "metadata": {},
   "source": [
    "## Les différentes compétences du programmeur\n",
    "Pour coder un programmeur utilise 4 compétences (de façon inconsciente). Comme vous apprenez, vous allez devoir faire l'effort de développer ces 4 compétences. Selon les gens, vous aurez plus ou moins de façilité à maitriser l'une où l'autre de ces compétences.\n",
    "* Lire un code informatique\n",
    "* Executer un code informatique\n",
    "* Comprendre un morceau de code\n",
    "* Concevoir (et adapter) un code\n"
   ]
  },
  {
   "cell_type": "markdown",
   "metadata": {},
   "source": [
    "\n",
    "\n",
    "### I Lire un code\n",
    "\n",
    "A aujourd'hui vous ne savez pas codé tout ce que vous voulez. Pour partir de votre statut d'apprenant à celui de développeur confirmé, vous allez devoir d'abord lire des bouts de code. C'est à dire il va falloir regarder un bout de code et comprendre ce qu'il fait ligne à ligne.\n",
    "\n",
    "Passons aux exercices :D"
   ]
  },
  {
   "cell_type": "markdown",
   "metadata": {},
   "source": [
    "#### I.1 Exercice 1 : Pour les scripts suivants donner le nom des variables et le type des variables"
   ]
  },
  {
   "cell_type": "code",
   "execution_count": 1,
   "metadata": {},
   "outputs": [],
   "source": [
    "# Script 1\n",
    "\n",
    "a = 1\n",
    "a = a + 1\n",
    "b = a\n",
    "L = [a,b,b+1]\n"
   ]
  },
  {
   "cell_type": "markdown",
   "metadata": {},
   "source": [
    "Réponse (à vous de remplir cette case :D) : .................................. (il faut double cliquer sur le texte ^^)"
   ]
  },
  {
   "cell_type": "code",
   "execution_count": null,
   "metadata": {},
   "outputs": [],
   "source": [
    "# Script 2\n",
    "\n",
    "a = 2\n",
    "b = \"babar\"\n",
    "\"babar\"\n",
    "Liste = a\n",
    "String = {1 : \"un\",\"B\":b,\"babar\":\"babar\"}\n"
   ]
  },
  {
   "cell_type": "markdown",
   "metadata": {},
   "source": [
    "Réponse : .................................."
   ]
  },
  {
   "cell_type": "markdown",
   "metadata": {},
   "source": [
    "#### I.2 Exercice 2 : Pour les scripts suivants donner le nom des fonctions, les arguments de ces fonctions et ce qu'elles renvoient."
   ]
  },
  {
   "cell_type": "code",
   "execution_count": null,
   "metadata": {},
   "outputs": [],
   "source": [
    "# Script 1\n",
    "def Fonction1(a,b,c):\n",
    "    return a + b + c"
   ]
  },
  {
   "cell_type": "markdown",
   "metadata": {},
   "source": [
    "Réponse : ....................."
   ]
  },
  {
   "cell_type": "code",
   "execution_count": null,
   "metadata": {},
   "outputs": [],
   "source": [
    "\n",
    "# Script 2\n",
    "def AvecUnReturn(p,pp):\n",
    "    a = p + pp\n",
    "    print(a)"
   ]
  },
  {
   "cell_type": "markdown",
   "metadata": {},
   "source": [
    "Réponse : ....................."
   ]
  },
  {
   "cell_type": "code",
   "execution_count": null,
   "metadata": {},
   "outputs": [],
   "source": [
    "# Script 3\n",
    "\n",
    "def EnFaitIlNyAvaitPasDeReturnAvant(argument):\n",
    "    return str(argument)\n"
   ]
  },
  {
   "cell_type": "markdown",
   "metadata": {},
   "source": [
    "Réponse : ....................."
   ]
  },
  {
   "cell_type": "code",
   "execution_count": null,
   "metadata": {},
   "outputs": [],
   "source": [
    "# Script 4\n",
    "def PasD_Inspiration():\n",
    "    a = input(\"Mettez un nombre\")\n",
    "    A = int(a)\n",
    "    return A + 3\n"
   ]
  },
  {
   "cell_type": "markdown",
   "metadata": {},
   "source": [
    "Réponse : ........................."
   ]
  },
  {
   "cell_type": "markdown",
   "metadata": {},
   "source": [
    "#### I.3) Exercice 3\n",
    "\n",
    "Dans les prochains scripts, donner le noms des variables et dire si elles sont locales ou globales. De plus donner leur type.\n",
    "\n",
    "Une variable locale est une variable à l'intérieur d'une fonction. C'est une variable intermédiaire que la console ne connait pas.\n",
    "\n",
    "Une variable globale est une variable définit à l'exterieur de toute fonction. Indication : Une classe et une fonction sont des variables globales."
   ]
  },
  {
   "cell_type": "code",
   "execution_count": null,
   "metadata": {},
   "outputs": [],
   "source": [
    "# Script 1\n",
    "\n",
    "a = 1\n",
    "b = \"2\"\n",
    "c = \"Babar\""
   ]
  },
  {
   "cell_type": "markdown",
   "metadata": {},
   "source": [
    "Réponse : ......................"
   ]
  },
  {
   "cell_type": "code",
   "execution_count": null,
   "metadata": {},
   "outputs": [],
   "source": [
    "\n",
    "# Script 2\n",
    "\n",
    "a = 1\n",
    "b = \"2\"\n",
    "\n",
    "def Babar(c):\n",
    "    return c"
   ]
  },
  {
   "cell_type": "markdown",
   "metadata": {},
   "source": [
    "Réponse : ................"
   ]
  },
  {
   "cell_type": "code",
   "execution_count": null,
   "metadata": {},
   "outputs": [],
   "source": [
    "# Script 3\n",
    "\n",
    "a = \"ff\"\n",
    "b = 3\n",
    "def Barbare(b):\n",
    "    c = b + 1\n",
    "    return c**2\n"
   ]
  },
  {
   "cell_type": "markdown",
   "metadata": {},
   "source": [
    "Réponse : ..........................."
   ]
  },
  {
   "cell_type": "code",
   "execution_count": null,
   "metadata": {},
   "outputs": [],
   "source": [
    "# Script 4\n",
    "\n",
    "a = 1\n",
    "deux = \"2\"\n",
    "def Trois():\n",
    "    aa = 3\n",
    "    b = 4\n",
    "    return a + b\n",
    "C = Trois()\n"
   ]
  },
  {
   "cell_type": "markdown",
   "metadata": {},
   "source": [
    "Réponse : ........................"
   ]
  },
  {
   "cell_type": "markdown",
   "metadata": {},
   "source": [
    "#### I.4) Exercice 4 : Recopier et corriger les scripts suivants \n"
   ]
  },
  {
   "cell_type": "code",
   "execution_count": null,
   "metadata": {},
   "outputs": [],
   "source": [
    "\n",
    "# Script 1\n",
    "\n",
    "def fonction()\n",
    "    return 3\n"
   ]
  },
  {
   "cell_type": "code",
   "execution_count": null,
   "metadata": {},
   "outputs": [],
   "source": [
    "# Script 2\n",
    "\n",
    "for i in range(3)\n",
    "    print(i)\n"
   ]
  },
  {
   "cell_type": "code",
   "execution_count": null,
   "metadata": {},
   "outputs": [],
   "source": [
    "# Script 3\n",
    "\n",
    "for i in range(3):\n",
    "print(i)"
   ]
  },
  {
   "cell_type": "code",
   "execution_count": null,
   "metadata": {},
   "outputs": [],
   "source": [
    "# Script 4\n",
    "\n",
    "def Fonction():\n",
    "    a = \"Kikou\"\n",
    "    b = 2\n",
    "    return a + b"
   ]
  },
  {
   "cell_type": "markdown",
   "metadata": {},
   "source": [
    "### Compétence 2 : Executer\n",
    "\n",
    "A la fin de cette compétence vous serez capables de :\n",
    "* d'executer une cellule de code\n",
    "* de reconnaître une erreur (et de comprendre chaque type d'erreur)\n",
    "* de débugger une erreur simple\n",
    "* de voir ce qu'il y a dans des variables"
   ]
  },
  {
   "cell_type": "markdown",
   "metadata": {},
   "source": [
    "#### II.1 Exercice 1 :\n",
    "Pour les Scripts suivants, vous allez executer les codes suivants et écrire pour chaque script la quantité demandée."
   ]
  },
  {
   "cell_type": "code",
   "execution_count": null,
   "metadata": {},
   "outputs": [],
   "source": [
    "\n",
    "# Script 1 : Calculer a\n",
    "\n",
    "a = 2\n",
    "b = 4\n",
    "a = b**a + a**b"
   ]
  },
  {
   "cell_type": "code",
   "execution_count": null,
   "metadata": {},
   "outputs": [],
   "source": []
  },
  {
   "cell_type": "markdown",
   "metadata": {},
   "source": [
    "Réponse : ...................."
   ]
  },
  {
   "cell_type": "code",
   "execution_count": null,
   "metadata": {},
   "outputs": [],
   "source": [
    "# Script 2 : Ecrire le dernier élément de L\n",
    "\n",
    "L = []\n",
    "for i in range(9):\n",
    "    L.append(i**2)"
   ]
  },
  {
   "cell_type": "code",
   "execution_count": null,
   "metadata": {},
   "outputs": [],
   "source": []
  },
  {
   "cell_type": "markdown",
   "metadata": {},
   "source": [
    "Réponse ................"
   ]
  },
  {
   "cell_type": "code",
   "execution_count": null,
   "metadata": {},
   "outputs": [],
   "source": [
    "\n",
    "# Script 3 : Donner f(3)\n",
    "\n",
    "def f(n):\n",
    "    L = []\n",
    "    for i in range(n):\n",
    "        L.append(i**2)\n",
    "    s = sum(L)\n",
    "    return s"
   ]
  },
  {
   "cell_type": "code",
   "execution_count": null,
   "metadata": {},
   "outputs": [],
   "source": []
  },
  {
   "cell_type": "markdown",
   "metadata": {},
   "source": [
    "Réponse : ......................."
   ]
  },
  {
   "cell_type": "code",
   "execution_count": null,
   "metadata": {},
   "outputs": [],
   "source": [
    "\n",
    "# Script 4 : A priori que devrait donner f(3) et calculer f(3)\n",
    "\n",
    "n = 5\n",
    "def f(n):\n",
    "    return n + 1"
   ]
  },
  {
   "cell_type": "markdown",
   "metadata": {},
   "source": [
    "Réponse 1 : .................."
   ]
  },
  {
   "cell_type": "code",
   "execution_count": null,
   "metadata": {},
   "outputs": [],
   "source": []
  },
  {
   "cell_type": "markdown",
   "metadata": {},
   "source": [
    "Réponse 2 : ...................."
   ]
  },
  {
   "cell_type": "markdown",
   "metadata": {},
   "source": [
    "#### II.2) Exercice 2 : \n",
    "\n",
    "Dans les scripts suivants, vous allez avoir une NameError.\n",
    "\"NameError : name '...' is not defined\". Trouver d'où vient l'erreur et pourquoi on a cette erreur ? et corriger l'erreur.\n",
    "Ecrire ensuite le script corrigé"
   ]
  },
  {
   "cell_type": "code",
   "execution_count": null,
   "metadata": {},
   "outputs": [],
   "source": [
    "\n",
    "# Script 1 : alpha est un nombre\n",
    "\n",
    "beta = alpha + 1"
   ]
  },
  {
   "cell_type": "markdown",
   "metadata": {},
   "source": [
    "Réponse : "
   ]
  },
  {
   "cell_type": "code",
   "execution_count": null,
   "metadata": {},
   "outputs": [],
   "source": [
    "#Script corrigé (je n'écrirai ça qu'une seule fois)"
   ]
  },
  {
   "cell_type": "code",
   "execution_count": null,
   "metadata": {},
   "outputs": [],
   "source": [
    "# Script 2 : String est un string\n",
    "\n",
    "String.upper()"
   ]
  },
  {
   "cell_type": "markdown",
   "metadata": {},
   "source": [
    "Réponse : "
   ]
  },
  {
   "cell_type": "code",
   "execution_count": null,
   "metadata": {},
   "outputs": [],
   "source": []
  },
  {
   "cell_type": "code",
   "execution_count": null,
   "metadata": {},
   "outputs": [],
   "source": [
    "# Script 3 : LListe est une liste\n",
    "\n",
    "for i in range(9):\n",
    "    LListe.append(i)"
   ]
  },
  {
   "cell_type": "markdown",
   "metadata": {},
   "source": [
    "Réponse : "
   ]
  },
  {
   "cell_type": "code",
   "execution_count": null,
   "metadata": {},
   "outputs": [],
   "source": []
  },
  {
   "cell_type": "code",
   "execution_count": null,
   "metadata": {},
   "outputs": [],
   "source": [
    "# Script 4 : Dico est un Dictionnaire\n",
    "\n",
    "Dico[\"AA\"] = \"aa\""
   ]
  },
  {
   "cell_type": "markdown",
   "metadata": {},
   "source": [
    "Réponse :"
   ]
  },
  {
   "cell_type": "code",
   "execution_count": null,
   "metadata": {},
   "outputs": [],
   "source": []
  },
  {
   "cell_type": "code",
   "execution_count": null,
   "metadata": {},
   "outputs": [],
   "source": [
    "# Script 5 : gamma est un nombre\n",
    "\n",
    "def f(gamma):\n",
    "    delta = gamma + 1\n",
    "    return delta\n",
    "\n",
    "print(gamma)"
   ]
  },
  {
   "cell_type": "markdown",
   "metadata": {},
   "source": [
    "Réponse : ......................."
   ]
  },
  {
   "cell_type": "code",
   "execution_count": null,
   "metadata": {},
   "outputs": [],
   "source": []
  },
  {
   "cell_type": "code",
   "execution_count": null,
   "metadata": {},
   "outputs": [],
   "source": [
    "# Script 6 : delta est un nombre\n",
    "\n",
    "def f(gamma):\n",
    "    delta = gamma + 1\n",
    "    return delta\n",
    "\n",
    "print(delta)"
   ]
  },
  {
   "cell_type": "markdown",
   "metadata": {},
   "source": [
    "Réponse : ......................"
   ]
  },
  {
   "cell_type": "code",
   "execution_count": null,
   "metadata": {},
   "outputs": [],
   "source": [
    "#Script corrigé "
   ]
  },
  {
   "cell_type": "markdown",
   "metadata": {},
   "source": [
    "### II.3) Exercice 3 \n",
    "Dans cet exercice on va obtenir des TypeError. Vous obtenez cette erreur lorsque vous utilisez une opération en deux variables de types différents.\n",
    "\n",
    "Ecrivez à la suite les scripts corrigés."
   ]
  },
  {
   "cell_type": "code",
   "execution_count": 4,
   "metadata": {},
   "outputs": [
    {
     "ename": "TypeError",
     "evalue": "can only concatenate str (not \"int\") to str",
     "output_type": "error",
     "traceback": [
      "\u001b[1;31m---------------------------------------------------------------------------\u001b[0m",
      "\u001b[1;31mTypeError\u001b[0m                                 Traceback (most recent call last)",
      "\u001b[1;32mc:\\Users\\Sylgi\\Desktop\\Cours Sylvain\\Support\\Ancien Github\\TP 1e Introduction\\TP_Introduction.ipynb Cell 67'\u001b[0m in \u001b[0;36m<cell line: 5>\u001b[1;34m()\u001b[0m\n\u001b[0;32m      <a href='vscode-notebook-cell:/c%3A/Users/Sylgi/Desktop/Cours%20Sylvain/Support/Ancien%20Github/TP%201e%20Introduction/TP_Introduction.ipynb#ch0000072?line=2'>3</a>\u001b[0m \u001b[39mstr\u001b[39m \u001b[39m=\u001b[39m \u001b[39m\"\u001b[39m\u001b[39mScript \u001b[39m\u001b[39m\"\u001b[39m\n\u001b[0;32m      <a href='vscode-notebook-cell:/c%3A/Users/Sylgi/Desktop/Cours%20Sylvain/Support/Ancien%20Github/TP%201e%20Introduction/TP_Introduction.ipynb#ch0000072?line=3'>4</a>\u001b[0m a \u001b[39m=\u001b[39m \u001b[39m1\u001b[39m\n\u001b[1;32m----> <a href='vscode-notebook-cell:/c%3A/Users/Sylgi/Desktop/Cours%20Sylvain/Support/Ancien%20Github/TP%201e%20Introduction/TP_Introduction.ipynb#ch0000072?line=4'>5</a>\u001b[0m Script1 \u001b[39m=\u001b[39m \u001b[39mstr\u001b[39;49m \u001b[39m+\u001b[39;49m a\n",
      "\u001b[1;31mTypeError\u001b[0m: can only concatenate str (not \"int\") to str"
     ]
    }
   ],
   "source": [
    "# Script 1 : On veut concatener écrire \"Script 1\"\n",
    "\n",
    "str = \"Script \"\n",
    "a = 1\n",
    "Script1 = str + a"
   ]
  },
  {
   "cell_type": "code",
   "execution_count": null,
   "metadata": {},
   "outputs": [],
   "source": []
  },
  {
   "cell_type": "code",
   "execution_count": null,
   "metadata": {},
   "outputs": [],
   "source": [
    "# Script 2 : On veut calculer 1.2 au carré\n",
    "\n",
    "u = 1,2\n",
    "v = u**2"
   ]
  },
  {
   "cell_type": "code",
   "execution_count": null,
   "metadata": {},
   "outputs": [],
   "source": []
  },
  {
   "cell_type": "code",
   "execution_count": null,
   "metadata": {},
   "outputs": [],
   "source": [
    "# Script 3 : On veut faire un string \"Maison Jolie\"\n",
    "\n",
    "L = []\n",
    "for lettre in \"Maison\":\n",
    "    L.append(lettre)\n",
    "Str = L + \"Jolie\""
   ]
  },
  {
   "cell_type": "code",
   "execution_count": null,
   "metadata": {},
   "outputs": [],
   "source": []
  },
  {
   "cell_type": "markdown",
   "metadata": {},
   "source": [
    "## III) Comprendre \n",
    "\n",
    "Cette compétence est celle qui me parait la plus difficile. Vous devez vous abstraire du code ligne à ligne et comprendre ce que le code fait dans sa globalité. Pourquoi on a mis cette boucle ? Que représente cette  variable ? Que fait cette fonction ? etc ....\n",
    "\n",
    "Vous allez devoir travailler cette compétence, tout le long de l'année. Dans les prochains exercices, on ne fera que des exemples assez simples. Essayez de les faire sans trop d'aide."
   ]
  },
  {
   "cell_type": "markdown",
   "metadata": {},
   "source": [
    "#### III.1) Exercice 1\n",
    "\n",
    "Expliquer comment le script fonctionne et ce que l'on veut calculer.\n"
   ]
  },
  {
   "cell_type": "code",
   "execution_count": null,
   "metadata": {},
   "outputs": [],
   "source": [
    "# Script 1 :\n",
    "\n",
    "def f(i):\n",
    "    j = (i+1)**2\n",
    "    return j\n",
    "\n",
    "S = 0\n",
    "for i in range(1000):\n",
    "    S = S  + f(i)"
   ]
  },
  {
   "cell_type": "code",
   "execution_count": null,
   "metadata": {},
   "outputs": [],
   "source": [
    "# Un bloc de code si vous voulez tester des trucs"
   ]
  },
  {
   "cell_type": "markdown",
   "metadata": {},
   "source": [
    "Réponse : ....................."
   ]
  },
  {
   "cell_type": "code",
   "execution_count": null,
   "metadata": {},
   "outputs": [],
   "source": [
    "# Script 2 :\n",
    "\n",
    "def Cube(n):\n",
    "    m = n**3\n",
    "    return m\n",
    "\n",
    "def Inverse(x):\n",
    "    y = 1/x\n",
    "    return y\n",
    "\n",
    "def UnSurXauCube(n):\n",
    "    X = list(range(1,n))\n",
    "    Y = []\n",
    "    for x in X:\n",
    "        y = Inverse(Cube(x))\n",
    "        Y.append(y)\n",
    "    return (X,Y)"
   ]
  },
  {
   "cell_type": "code",
   "execution_count": null,
   "metadata": {},
   "outputs": [],
   "source": [
    "# Pour tester des trucs "
   ]
  },
  {
   "cell_type": "markdown",
   "metadata": {},
   "source": [
    "Réponse : ............................."
   ]
  },
  {
   "cell_type": "code",
   "execution_count": null,
   "metadata": {},
   "outputs": [],
   "source": [
    "# Script 3\n",
    "\n",
    "def Transm(lettre):\n",
    "    Alphabet = [\"a\",\"b\",\"c\",\"d\",\"e\",\"f\",\"g\",\"h\",\"i\",\"j\",\"k\",\"l\",\"m\",\"n\",\"o\",\"p\",\"q\",\"r\",\"s\",\"t\",\"u\",\"v\",\"w\",\"x\",\"y\",\"z\"]\n",
    "    if type(lettre)  == str and len(lettre) == 1:\n",
    "        lettreminuscule = lettre.lower()\n",
    "        code = Alphabet.index(lettreminuscule)\n",
    "    else:\n",
    "        code = -1\n",
    "    return code\n",
    "\n",
    "def DeformCode(code,coeff):\n",
    "    if code == -1:\n",
    "        NouveauCode = -1\n",
    "    else:\n",
    "        NouveauCode = code + coeff\n",
    "        # On ramène le nouveau code dans [0,25] en faisant une division euclidienne par 26\n",
    "        NouveauCode = NouveauCode % 26\n",
    "    return NouveauCode\n",
    "\n",
    "def CodeVersLettre(code):\n",
    "    Alphabet = [\"a\",\"b\",\"c\",\"d\",\"e\",\"f\",\"g\",\"h\",\"i\",\"j\",\"k\",\"l\",\"m\",\"n\",\"o\",\"p\",\"q\",\"r\",\"s\",\"t\",\"u\",\"v\",\"w\",\"x\",\"y\",\"z\"]\n",
    "    NouvelleLettre = Alphabet[code]\n",
    "    return NouvelleLettre\n",
    "\n",
    "\n",
    "def TransformerMot(mot,coeff):\n",
    "    NouveauMot = \"\"\n",
    "    for lettre in mot:\n",
    "        code = Transm(lettre)\n",
    "        NouvCode = DeformCode(code,coeff)\n",
    "        NouvLettre = CodeVersLettre(NouvCode)\n",
    "        NouveauMot = NouveauMot + NouvLettre\n",
    "    return NouveauMot\n",
    "\n",
    "def TransformerMotAlea(mot):\n",
    "    import random\n",
    "    u = random.randint(1,1000)\n",
    "    NouveauMot = TransformerMot(mot,u)\n",
    "    return NouveauMot"
   ]
  },
  {
   "cell_type": "code",
   "execution_count": null,
   "metadata": {},
   "outputs": [],
   "source": [
    "# Pour tester "
   ]
  },
  {
   "cell_type": "markdown",
   "metadata": {},
   "source": [
    "Réponse : ..................... \n",
    "\n",
    "Conseil : Prenez une feuille et un stylo et ecrivez ce que fais chaque fonction ce qu'elle prends en entrée et en sortie et comment elles interagissent entre elles."
   ]
  },
  {
   "cell_type": "code",
   "execution_count": null,
   "metadata": {},
   "outputs": [],
   "source": [
    "# Script 4 :\n",
    "\n",
    "import random\n",
    "\n",
    "ListeNombreAuHasard = []\n",
    "\n",
    "for i in range(1000):\n",
    "    u = random.randint(-10000,10000)\n",
    "    ListeNombreAuHasard.append(u)\n",
    "\n",
    "Compteur = 0\n",
    "for nombre in ListeNombreAuHasard:\n",
    "    if nombre %2 == 0:  # Si nombre est pair\n",
    "        Compteur = Compteur + 1"
   ]
  },
  {
   "cell_type": "markdown",
   "metadata": {},
   "source": [
    "Réponse : ......................."
   ]
  },
  {
   "cell_type": "markdown",
   "metadata": {},
   "source": [
    "## IV) Concevoir \n",
    "Bon vous allez pas être des gens qui ne développe rien :) Dernière compétence : Concevoir des solutions informatiques à des problèmes. Comme pour la compétence 3, on va commencer par des problèmes simples :)\n",
    "\n",
    "Ceux là aussi essayer de les faire sans aide. Plus tard aucun soucis pour vous aider mais au début il faut rentrer dedans seul :D"
   ]
  },
  {
   "cell_type": "markdown",
   "metadata": {},
   "source": [
    "#### IV.1) Exercice 1 \n",
    "Faire un programme qui calcule votre age en 2060"
   ]
  },
  {
   "cell_type": "code",
   "execution_count": null,
   "metadata": {},
   "outputs": [],
   "source": []
  },
  {
   "cell_type": "markdown",
   "metadata": {},
   "source": [
    "#### IV.2) Exercice 2 \n",
    "Pour un nombre <code> n </code> donné calculer le carré du triple du nombre"
   ]
  },
  {
   "cell_type": "code",
   "execution_count": null,
   "metadata": {},
   "outputs": [],
   "source": [
    "n = 3988"
   ]
  },
  {
   "cell_type": "markdown",
   "metadata": {},
   "source": [
    "#### IV.3) Exercice 3 \n",
    "\n",
    "On lance deux dés à six faces parfaitement équilibrés et on additionne les deux résultats obtenus. Écrire un programme qui modélise les lancers de ces deux dés et qui donne le nombre <code>n</code> de lancers qu’il a fallu pour obtenir la somme 12. On veut voir le résultat des 2 dés à chaque tour."
   ]
  },
  {
   "cell_type": "code",
   "execution_count": null,
   "metadata": {},
   "outputs": [],
   "source": []
  },
  {
   "cell_type": "markdown",
   "metadata": {},
   "source": [
    "#### IV.4) Exercice 4\n",
    "\n",
    "Écrire un programme qui demande un entier positif ou nul et qui donne ensuite son nombre de chiffre."
   ]
  },
  {
   "cell_type": "code",
   "execution_count": null,
   "metadata": {},
   "outputs": [],
   "source": []
  },
  {
   "cell_type": "markdown",
   "metadata": {},
   "source": [
    "#### IV.5) Exercice 5 \n",
    "\n",
    " Un joueur doit trouver un nombre mystère choisi de manière aléatoire par l’ordinateur. À chaque tour, le joueur propose un nombre (via la commande <code>input </code> et l’ordinateur indique si le nombre mystère est plus petit ou plus grand que le nombre proposé jusqu’à ce que le joueur trouve le nombre mystère.\n",
    " \n",
    " * Écrire un programme permettant de jouer à ce jeu avec un nombre à chercher compris entre zéro et 100. \n",
    "*  Compléter ce programme afin de faire afficher le nombre d’essais effectués."
   ]
  },
  {
   "cell_type": "code",
   "execution_count": null,
   "metadata": {},
   "outputs": [],
   "source": []
  },
  {
   "cell_type": "markdown",
   "metadata": {},
   "source": [
    "#### IV.6) Exercice 6\n",
    "\n",
    "Faites une fonction qui prends en entrée 3 entiers <code> n,a,b </code> et qui donne en sortie une liste de <code>n</code> nombres aléatoires compris entre <code>a</code> et <code>b</code>."
   ]
  },
  {
   "cell_type": "code",
   "execution_count": null,
   "metadata": {},
   "outputs": [],
   "source": []
  },
  {
   "cell_type": "markdown",
   "metadata": {},
   "source": [
    "#### IV.7) Exercice 7\n",
    "Faire une fonction qui prend en entrée une liste et qui donne en sortie un dictionnaire avec comme clé les items de la liste et comme valeur le nombre de fois où cette clé est dans la liste.\n",
    "Exemple ci dessous"
   ]
  },
  {
   "cell_type": "code",
   "execution_count": null,
   "metadata": {},
   "outputs": [],
   "source": [
    "L = [1,1,1,1,3,3,5,\"b\",\"c\"]\n",
    "dico = {1:4,3:2,\"b\":1,\"c\":1}"
   ]
  },
  {
   "cell_type": "code",
   "execution_count": null,
   "metadata": {},
   "outputs": [],
   "source": []
  }
 ],
 "metadata": {
  "interpreter": {
   "hash": "11938c6bc6919ae2720b4d5011047913343b08a43b18698fd82dedb0d4417594"
  },
  "kernelspec": {
   "display_name": "Python 3.9.10 64-bit",
   "language": "python",
   "name": "python3"
  },
  "language_info": {
   "codemirror_mode": {
    "name": "ipython",
    "version": 3
   },
   "file_extension": ".py",
   "mimetype": "text/x-python",
   "name": "python",
   "nbconvert_exporter": "python",
   "pygments_lexer": "ipython3",
   "version": "3.9.10"
  },
  "orig_nbformat": 4
 },
 "nbformat": 4,
 "nbformat_minor": 2
}
