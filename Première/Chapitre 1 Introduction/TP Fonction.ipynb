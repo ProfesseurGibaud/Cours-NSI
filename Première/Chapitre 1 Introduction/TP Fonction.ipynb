{
 "cells": [
  {
   "cell_type": "markdown",
   "metadata": {},
   "source": [
    "# Exercice 1\n",
    "\n",
    "Déterminez les renvois des fonctions $f$ et $g$ définies ci-dessous pour les appels $f(2),f(0),g(1)$ et $g(3)$."
   ]
  },
  {
   "cell_type": "code",
   "execution_count": 1,
   "metadata": {},
   "outputs": [],
   "source": [
    "def f(x):\n",
    "    y = x**2-3\n",
    "    return y\n",
    "\n",
    "def g(x):\n",
    "    y = x**2 - 3\n",
    "    z = 3*x -y\n",
    "    y = z + x\n",
    "    return z"
   ]
  },
  {
   "cell_type": "code",
   "execution_count": null,
   "metadata": {},
   "outputs": [],
   "source": []
  },
  {
   "cell_type": "markdown",
   "metadata": {},
   "source": [
    "# Exercice 2\n",
    "\n",
    "On considère les trois fonctions Python suivantes.\n",
    "\n",
    "Détaillez les calculs de $f1(5,1)$, $f2(5,1)$ et $f3(5,1)$. Vous listerez l’ensemble de toutes les affectations qui sont réalisées en indiquant si celles-ci ont lieu :\n",
    "* avant le début de la boucle ;\n",
    "* dans la boucle et, dans ce cas, au combientième tour de la boucle ;\n",
    "* après la sortie de la boucle."
   ]
  },
  {
   "cell_type": "code",
   "execution_count": null,
   "metadata": {},
   "outputs": [],
   "source": [
    "def f1(x,y):\n",
    "    z = 0\n",
    "    while z<20:\n",
    "        z = x+y\n",
    "        x = 2*x\n",
    "        y = 3*y\n",
    "        z = y*z\n",
    "    return z\n",
    "\n",
    "def f2(x,y):\n",
    "    z = 0\n",
    "    while z < 20:\n",
    "        z = x + y\n",
    "        x = 2*x\n",
    "        y = 3*y\n",
    "    x = y*z\n",
    "    return z\n",
    "\n",
    "def f3(x,y):\n",
    "    z = 0\n",
    "    while z < 20:\n",
    "        z = x + y\n",
    "    x = 2*x\n",
    "    y = 3*y\n",
    "    return z"
   ]
  },
  {
   "cell_type": "code",
   "execution_count": null,
   "metadata": {},
   "outputs": [],
   "source": []
  },
  {
   "cell_type": "markdown",
   "metadata": {},
   "source": [
    "# Exercice 3\n",
    "\n",
    "Le tableau suivant donne la mention en fonction de la note N obtenue à la première session du baccalauréat.\n",
    "\n",
    "|Condition | Mention|\n",
    "|---|---|\n",
    "|$0\\leq N <8$ | Ajournée |\n",
    "|$8 \\leq N <10$ | Rattrapage |\n",
    "|$10 \\leq N < 12$ | Sans Mention |\n",
    "|$12 \\leq N < 14$ | Assez Bien |\n",
    "|$14 \\leq N < 16$ | Bien|\n",
    "|$N \\geq 16$ |Très bien |\n",
    "\n",
    "Définissez une fonction Python qui prend une note en paramètre et renvoie la men-\n",
    "tion correspondante sous forme de chaîne de caractère."
   ]
  },
  {
   "cell_type": "markdown",
   "metadata": {},
   "source": [
    "# Exercice 4\n",
    "\n",
    "1. Recopiez et complétez le code suivant de la fonction <code> lancer </code> pour qu'elle simule le lancer d'un dé équilibré à six faces.\n",
    "```\n",
    "        import random as rd\n",
    "\n",
    "        def lancer():\n",
    "            return rd.randint(...,...)\n",
    "```\n",
    "2. On souhaite réaliser une simulation du lancer de 1000 dés. Complétez le code\n",
    "suivant et exécutez le à la suite du code précédent afin de pouvoir remplir le\n",
    "tableau des effectifs correspondant à la série statistique de la simulation.\n",
    "   "
   ]
  }
 ],
 "metadata": {
  "interpreter": {
   "hash": "11938c6bc6919ae2720b4d5011047913343b08a43b18698fd82dedb0d4417594"
  },
  "kernelspec": {
   "display_name": "Python 3.9.10 64-bit",
   "language": "python",
   "name": "python3"
  },
  "language_info": {
   "codemirror_mode": {
    "name": "ipython",
    "version": 3
   },
   "file_extension": ".py",
   "mimetype": "text/x-python",
   "name": "python",
   "nbconvert_exporter": "python",
   "pygments_lexer": "ipython3",
   "version": "3.9.10"
  },
  "orig_nbformat": 4
 },
 "nbformat": 4,
 "nbformat_minor": 2
}
