{
 "cells": [
  {
   "cell_type": "markdown",
   "metadata": {},
   "source": [
    "# Cours les Piles et Files"
   ]
  },
  {
   "cell_type": "markdown",
   "metadata": {},
   "source": [
    "![alt text](PileFile1.jpg \"Title\")"
   ]
  },
  {
   "cell_type": "markdown",
   "metadata": {},
   "source": [
    "Tout ceci est parfaitement conforme à l’intuition d’une pile d’assiettes, ou de la\n",
    "queue devant un guichet, et suggère fortement des techniques d’implémentations pour\n",
    "les piles et les files."
   ]
  },
  {
   "cell_type": "markdown",
   "metadata": {},
   "source": [
    "## Piles\n",
    "### I.1) Structures de données"
   ]
  },
  {
   "cell_type": "markdown",
   "metadata": {},
   "source": [
    "Une pile en python est une structure de données variables qui stoque des données\n",
    "à la suite. Le système d’agglomération des données est le FILO (First In Last Out). On\n",
    "l’implémente en python avec des listes.\n",
    "\n",
    "\n",
    "Il y a plusieurs types d’opérations sur les Piles que l’on écrira avec des méthodes.\n",
    "1. La méthode : __init__ qui est le constructeur. On initie la pile à une liste vide."
   ]
  },
  {
   "cell_type": "code",
   "execution_count": 2,
   "metadata": {},
   "outputs": [],
   "source": [
    "class Pile:\n",
    "    def __init__(self):\n",
    "        self.data = []"
   ]
  },
  {
   "cell_type": "markdown",
   "metadata": {},
   "source": [
    "2. La méthode <code>empiler</code> pour ajouter un élément dans une liste."
   ]
  },
  {
   "cell_type": "code",
   "execution_count": 3,
   "metadata": {},
   "outputs": [],
   "source": [
    "class Pile:\n",
    "    def __init__(self):\n",
    "        self.data = []\n",
    "    def empiler(self,element):\n",
    "        self.data.append(element)"
   ]
  },
  {
   "cell_type": "markdown",
   "metadata": {},
   "source": [
    "3. La méthode <code>hauteur</code> pour donner la hauteur de la pile."
   ]
  },
  {
   "cell_type": "code",
   "execution_count": 4,
   "metadata": {},
   "outputs": [],
   "source": [
    "class Pile:\n",
    "    def __init__(self):\n",
    "        self.data = []\n",
    "    def hauteur(self):\n",
    "        return len(self.data)"
   ]
  },
  {
   "cell_type": "markdown",
   "metadata": {},
   "source": [
    "4. La méthode <code> est_vide </code> pour renvoyer un booléen qui est Vrai si la pile est vide et False si elle ne l'est pas."
   ]
  },
  {
   "cell_type": "code",
   "execution_count": 5,
   "metadata": {},
   "outputs": [],
   "source": [
    "class Pile:\n",
    "    def __init__(self):\n",
    "        self.data = []\n",
    "    def est_vide(self):\n",
    "        return self.hauteur() == 0"
   ]
  },
  {
   "cell_type": "markdown",
   "metadata": {},
   "source": [
    "5. La méthode <code>depiler</code> pour enlever un item de la pile et l'obtenir. (Il peut y avoir une erreur si la liste est vide. En exercice vous traiterez ce cas)"
   ]
  },
  {
   "cell_type": "code",
   "execution_count": 6,
   "metadata": {},
   "outputs": [],
   "source": [
    "class Pile:\n",
    "    def __init__(self):\n",
    "        self.data = []\n",
    "    def depiler(self):\n",
    "        return self.data.pop()"
   ]
  },
  {
   "cell_type": "markdown",
   "metadata": {},
   "source": [
    "6. La méthode <code>sommet</code> pour voir/récupérer le dernier élément de la liste."
   ]
  },
  {
   "cell_type": "code",
   "execution_count": 7,
   "metadata": {},
   "outputs": [],
   "source": [
    "class Pile:\n",
    "    def __init__(self):\n",
    "        self.data = []\n",
    "    def sommet(self):\n",
    "        return self.data[-1]"
   ]
  },
  {
   "cell_type": "markdown",
   "metadata": {},
   "source": [
    "--- \n",
    "Exercice \n",
    "\n",
    "Regrouper toutes ces méthodes et ajouter une méthode pour pouvoir printer une pile (printer ce qui vous parait le plus interessant)\n",
    "\n",
    "---"
   ]
  },
  {
   "cell_type": "code",
   "execution_count": 8,
   "metadata": {},
   "outputs": [],
   "source": [
    "class Pile:\n",
    "    def __init__(self,data = []):\n",
    "        self.data = data\n",
    "    def empiler(self,element):\n",
    "        self.data.append(element)\n",
    "    def depiler(self):\n",
    "        return self.data.pop()\n",
    "    def est_vide(self):\n",
    "        return self.hauteur() == 0\n",
    "    def hauteur(self):\n",
    "        return len(self.data)\n",
    "    def sommet(self):\n",
    "        return self.data[-1]\n",
    "    def __str__(self):\n",
    "        return f\" les données de la pile sont {self.data}\"\n",
    "    "
   ]
  },
  {
   "cell_type": "markdown",
   "metadata": {},
   "source": [
    "### I.2) Exercices sur les piles\n",
    "Pour faire les exercices suivants vous n’utiliserez que les méthodes précédentes. A\n",
    "la fin de chaque méthode vous ajouterez une condition pour vérifier que le nombre de\n",
    "cartes (objets) est respecté\n"
   ]
  },
  {
   "cell_type": "markdown",
   "metadata": {},
   "source": [
    "\n",
    "--- \n",
    "Exercice 1 \n",
    "\n",
    "Faites une méthode qui retourne l'ordre de la pile.\n",
    "1. Avec les cartes\n",
    "2. En pseudo code\n",
    "3. Sur les ordinateurs en Python\n",
    "\n",
    "---\n"
   ]
  },
  {
   "cell_type": "code",
   "execution_count": 17,
   "metadata": {},
   "outputs": [],
   "source": [
    "class returrn(Pile):\n",
    "    def returnn(self):\n",
    "        p_r = returrn([])\n",
    "        while not self.est_vide():\n",
    "            p_r.empiler(self.depiler())\n",
    "        return p_r"
   ]
  },
  {
   "cell_type": "code",
   "execution_count": 18,
   "metadata": {},
   "outputs": [
    {
     "name": "stdout",
     "output_type": "stream",
     "text": [
      " les données de la pile sont [5, 4, 3, 2, 1]\n"
     ]
    }
   ],
   "source": [
    "p_rr = returrn([1,2,3,4,5])\n",
    "print(p_rr.returnn())\n"
   ]
  },
  {
   "cell_type": "markdown",
   "metadata": {},
   "source": [
    "\n",
    "\n",
    "---\n",
    "Exercice 2 \n",
    "\n",
    "Faites une fonction qui divise une pile en 2 piles de même taille\n",
    "1. Avec les cartes\n",
    "2. En pseudo code\n",
    "3. Sur les ordinateurs en Python\n",
    "\n",
    "---\n",
    "\n"
   ]
  },
  {
   "cell_type": "code",
   "execution_count": 11,
   "metadata": {},
   "outputs": [],
   "source": [
    "def diviser(p1):\n",
    "    n = 1\n",
    "    amour = (Pile([]),Pile([]))\n",
    "    while not p1.est_vide():\n",
    "        carte = (p1.depiler())\n",
    "        n+=1\n",
    "        if n%2 == 1:\n",
    "            amour[0].empiler(carte)\n",
    "        else:\n",
    "            amour[1].empiler(carte)\n",
    "    return amour"
   ]
  },
  {
   "cell_type": "code",
   "execution_count": 12,
   "metadata": {},
   "outputs": [
    {
     "name": "stdout",
     "output_type": "stream",
     "text": [
      " les données de la pile sont [9, 2, 6, 4]\n",
      " les données de la pile sont [1, 6, 7, 3, 2]\n"
     ]
    }
   ],
   "source": [
    "P = Pile([2,4,3,6,7,2,6,9,1])\n",
    "amour = diviser(P)\n",
    "print(amour[0])\n",
    "print(amour[1])"
   ]
  },
  {
   "cell_type": "markdown",
   "metadata": {},
   "source": [
    "\n",
    "\n",
    "---\n",
    "Exercice 3\n",
    "\n",
    "Faites une fonction qui fusionne deux piles en alternant une carte de chaque pile.\n",
    "1. Avec les cartes\n",
    "2. En pseudo code\n",
    "3. Sur les ordinateurs en Python\n",
    "\n",
    "---\n"
   ]
  },
  {
   "cell_type": "code",
   "execution_count": 13,
   "metadata": {},
   "outputs": [],
   "source": [
    "def gotrunk(p1,p2):\n",
    "    vegeto = returrn([])\n",
    "    while not p1.est_vide() or not p2.est_vide():\n",
    "        if not p1.est_vide():\n",
    "            vegeto.empiler(p1.depiler())\n",
    "        if not p2.est_vide():\n",
    "            vegeto.empiler(p2.depiler())\n",
    "    return vegeto"
   ]
  },
  {
   "cell_type": "code",
   "execution_count": 20,
   "metadata": {},
   "outputs": [
    {
     "name": "stdout",
     "output_type": "stream",
     "text": [
      " les données de la pile sont [1, 2, 1, 3, 4, 4]\n"
     ]
    }
   ],
   "source": [
    "p1 = Pile([1,2,3,4])\n",
    "p2 = Pile([1,4])\n",
    "print(gotrunk(p1,p2).returnn())"
   ]
  },
  {
   "cell_type": "markdown",
   "metadata": {},
   "source": [
    "\n",
    "\n",
    "---\n",
    "Exercice 4\n",
    "\n",
    "Faites une fonction <code>melange_americain</code> qui fusionne deux piles en alternant une ou deux cartes (le 1 ou 2 choisis aléatoirement) de chaque pile.\n",
    "1. Avec les cartes\n",
    "2. En pseudo code\n",
    "3. Sur les ordinateurs en Python\n",
    "\n",
    "---\n"
   ]
  },
  {
   "cell_type": "code",
   "execution_count": 25,
   "metadata": {},
   "outputs": [],
   "source": [
    "import random as rd\n",
    "def melange_americain(p1,p2):\n",
    "    rital = Pile([])\n",
    "    while not p1.est_vide() or not p2.est_vide():\n",
    "        rital.empiler(p1.depiler())\n",
    "        if not p1.est_vide() and rd.random()<0.5:\n",
    "            rital.empiler(p1.depiler())\n",
    "        rital.empiler(p2.depiler())\n",
    "        if not p2.est_vide() and rd.random()<0.5:\n",
    "            rital.empiler(p2.depiler())\n",
    "    return rital"
   ]
  },
  {
   "cell_type": "code",
   "execution_count": 26,
   "metadata": {},
   "outputs": [
    {
     "name": "stdout",
     "output_type": "stream",
     "text": [
      " les données de la pile sont [4, 3, 4, 2, 1, 1]\n"
     ]
    }
   ],
   "source": [
    "p1 = Pile([1,2,3,4])\n",
    "p2 = Pile([1,4])\n",
    "print(melange_americain(p1,p2))"
   ]
  },
  {
   "cell_type": "markdown",
   "metadata": {},
   "source": [
    "## II) Files\n",
    "### II.1) Structures de données\n",
    "\n"
   ]
  },
  {
   "cell_type": "markdown",
   "metadata": {},
   "source": [
    "Une file en python est une structure de données variables qui stoque des données\n",
    "à la suite. Le système d’agglomération des données est le FIFO (First In First Out). On\n",
    "l’implémente en python avec des listes.\n",
    "Il y a plusieurs types d’opérations sur les Files que l’on écrira avec des méthodes.\n",
    "1. La méthode : <code>\\_\\_init\\_\\_</code> qui est le constructeur. On initie la pile à une liste vide"
   ]
  },
  {
   "cell_type": "code",
   "execution_count": null,
   "metadata": {},
   "outputs": [],
   "source": [
    "class File:\n",
    "    def __init__(self):\n",
    "        self.data = []"
   ]
  },
  {
   "cell_type": "markdown",
   "metadata": {},
   "source": [
    "2. La méthode <code>enfiler</code> pour ajouter un élément dans une liste."
   ]
  },
  {
   "cell_type": "code",
   "execution_count": 1,
   "metadata": {},
   "outputs": [],
   "source": [
    "class File:\n",
    "    def __init__(self):\n",
    "        self.data = []\n",
    "    def enfiler(self,element):\n",
    "        self.data.append(element)"
   ]
  },
  {
   "cell_type": "markdown",
   "metadata": {},
   "source": [
    "3. La méthode <code>longueur</code> pour donner la hauteur de la pile."
   ]
  },
  {
   "cell_type": "code",
   "execution_count": null,
   "metadata": {},
   "outputs": [],
   "source": [
    "class File:\n",
    "    def __init__(self):\n",
    "        self.data = []\n",
    "    def longueur(self):\n",
    "        return len(self.data)"
   ]
  },
  {
   "cell_type": "markdown",
   "metadata": {},
   "source": [
    "4. La méthode <code>est_vide</code> pour donner un booléen pour savoir si la liste est vide"
   ]
  },
  {
   "cell_type": "code",
   "execution_count": null,
   "metadata": {},
   "outputs": [],
   "source": [
    "class File:\n",
    "    def __init__(self):\n",
    "        self.data = []\n",
    "    def est_vide(self):\n",
    "        return self.longueur() == 0"
   ]
  },
  {
   "cell_type": "markdown",
   "metadata": {},
   "source": [
    "5. La méthode <code>defiler</code> pour enlever un item de la pile et l’obtenir (Il peut y avoir une\n",
    "erreur si la liste est vide. En exercice vous traiterez ce cas)"
   ]
  },
  {
   "cell_type": "code",
   "execution_count": null,
   "metadata": {},
   "outputs": [],
   "source": [
    "class File:\n",
    "    def __init__(self):\n",
    "        self.data = []\n",
    "    def defiler ( self ) :\n",
    "        return self.data.pop(0)"
   ]
  },
  {
   "cell_type": "markdown",
   "metadata": {},
   "source": [
    "6. La méthode <code> dernier </code> pour avoir le dernier arrivée dans la liste."
   ]
  },
  {
   "cell_type": "code",
   "execution_count": null,
   "metadata": {},
   "outputs": [],
   "source": [
    "class File:\n",
    "    def __init__(self):\n",
    "        self.data = []\n",
    "    def dernier (self) :\n",
    "        return self.data[-1]"
   ]
  },
  {
   "cell_type": "markdown",
   "metadata": {},
   "source": [
    "--- \n",
    "Exercice \n",
    "\n",
    "Regrouper toutes ces méthodes et ajouter une méthode pour pouvoir printer une pile (printer ce qui vous parait le plus interessant)\n",
    "\n",
    "---\n"
   ]
  },
  {
   "cell_type": "code",
   "execution_count": 1,
   "metadata": {},
   "outputs": [],
   "source": [
    "class File:\n",
    "    def __init__(self):\n",
    "        self.data = []\n",
    "    def enfiler(self,element):\n",
    "        self.data.append(element)\n",
    "    def longueur(self):\n",
    "        return len(self.data)  \n",
    "    def est_vide(self):\n",
    "        return self.longueur() == 0\n",
    "    def defiler ( self ) :\n",
    "        return self.data.pop(0)\n",
    "    def dernier (self) :\n",
    "        return self.data[-1]"
   ]
  },
  {
   "cell_type": "markdown",
   "metadata": {},
   "source": [
    "### II.2) Exercice"
   ]
  },
  {
   "cell_type": "markdown",
   "metadata": {},
   "source": [
    "On va faire un long exercice filé sur les files d’attente. Vous ne pourrez utiliser que\n",
    "les méthodes définies dans l’exercice ou précédemment"
   ]
  },
  {
   "cell_type": "markdown",
   "metadata": {},
   "source": [
    "---\n",
    "Exercice 5 : \n",
    "\n",
    "Considérons la suite d'instructions suivantes :\n",
    "```\n",
    "F <- Creer_file\n",
    "enfiler 21 à F\n",
    "enfiler 22 à F\n",
    "N <- défiler F\n",
    "enfiler 24 à F\n",
    "enfiler 25 à F\n",
    "N <- défiler F\n",
    "```\n",
    "À la fin de cette séquence :\n",
    "1. Que contient <code>N </code>\n",
    "2. Que contient la pile <code>F</code>\n",
    "   \n",
    "---"
   ]
  },
  {
   "cell_type": "code",
   "execution_count": 2,
   "metadata": {},
   "outputs": [],
   "source": [
    "queue = File()\n",
    "queue.enfiler(21)\n",
    "queue.enfiler(22)\n",
    "queue.defiler()\n",
    "queue.enfiler(24)\n",
    "queue.enfiler(25)\n",
    "N = queue.defiler()"
   ]
  },
  {
   "cell_type": "code",
   "execution_count": 3,
   "metadata": {},
   "outputs": [
    {
     "name": "stdout",
     "output_type": "stream",
     "text": [
      "22\n",
      "[24, 25]\n"
     ]
    }
   ],
   "source": [
    "print(N)\n",
    "print(queue.data)"
   ]
  },
  {
   "cell_type": "markdown",
   "metadata": {},
   "source": [
    "---\n",
    "\n",
    "Exercice 6\n",
    "\n",
    "Dans un supermarché il y a 5 caisses et une file d’attente commune. Dès qu’une\n",
    "caisse est libre, le client en tête de file y est envoyé. Le temps de passage en caisse est\n",
    "aléatoirement compris entre 3 et 10 minutes. Il y a dix clients dans la file d’attente.\n",
    "\n",
    "1. Réaliser une simulation de leurs passages en caisses et afficher en combien de minutes tous les clients sont passés.\n",
    "2. Refaire quelques essais avec plus de clients\n",
    "3. Réaliser une simulation de leur passages en caisses et afficher en combien de minutes tous les clients sont passés\n",
    "\n",
    "---"
   ]
  },
  {
   "cell_type": "code",
   "execution_count": 11,
   "metadata": {},
   "outputs": [
    {
     "name": "stdout",
     "output_type": "stream",
     "text": [
      "45\n"
     ]
    }
   ],
   "source": [
    "import random as rd\n",
    "\n",
    "#On fait une classe Client et une classe Caisse pour manipuler les bons objets (et pas juste des nombres)\n",
    "class Client:\n",
    "    def __init__(self,numero):\n",
    "        self.numero = numero\n",
    "        self.temps_attente = 0\n",
    "    def __str__(self):\n",
    "        return str(self.numero)\n",
    "\n",
    "class Caisse:\n",
    "    def __init__(self,numero):\n",
    "        self.numero = numero \n",
    "        self.prochain_passage = rd.randint(3,10)\n",
    "        self.client_actuel = None\n",
    "    def service(self):\n",
    "        self.prochain_passage += rd.randint(3,10)\n",
    "    def __str__(self):\n",
    "        return f\"La caisse numéro {self.numero} prendra un client à {self.prochain_passage}\"\n",
    "\n",
    "#On initialise la file avec 10 clients\n",
    "queue = File()\n",
    "for i in range(30):\n",
    "    queue.enfiler(Client(i))\n",
    "\n",
    "# On initialise les 5 caisses\n",
    "liste_caisses = []\n",
    "for i in range(5):\n",
    "    liste_caisses.append(Caisse(i))\n",
    "\n",
    "\n",
    "# On fait couler un temps\n",
    "t = 0\n",
    "while not queue.est_vide():\n",
    "    for caisse in liste_caisses:\n",
    "        if caisse.prochain_passage <= t:\n",
    "            caisse.client_actuel = queue.defiler()\n",
    "            caisse.service()\n",
    "    t +=1\n",
    "\n",
    "print(t)"
   ]
  },
  {
   "cell_type": "markdown",
   "metadata": {},
   "source": [
    "---\n",
    "\n",
    "Exercice 7\n",
    "\n",
    "Un poste de contrôle est alimenté en pièces toutes les 7 minutes. Ces pièces sont de\n",
    "quatre types qui nécessitent respectivement 4, 6, 8 et 9 minutes pour être contrôlés.\n",
    "Les fréquences des quatre types sont identiques.\n",
    "1. A l’aide d’une file, simuler le fonctionnement du poste de contrôle pendant 1\n",
    "heure, puis 80 heures.\n",
    "2. Calculer le nombre de pièces en attente de contrôle\n",
    "3. Déterminer la durée de séjour des pièces dans le poste de contrôle. Afficher\n",
    "celle de la dernière\n",
    "4. Le contrôleur fait une pause de 15 minutes toutes les 4 heures. Déterminer le\n",
    "nombre d’heures effectives de travail\n",
    "\n",
    "---"
   ]
  },
  {
   "cell_type": "code",
   "execution_count": 16,
   "metadata": {},
   "outputs": [],
   "source": [
    "class Piece:\n",
    "    def __init__(self,arrivee):\n",
    "        self.duree_controle = rd.choice([4,6,8,9])\n",
    "        self.arrivee = arrivee\n",
    "        self.depart = None\n",
    "\n",
    "poste_controle = File()\n",
    "prochain_traitement = 0\n",
    "for t in range(80*60):\n",
    "    if t%7 == 0:\n",
    "        poste_controle.enfiler(Piece(t))\n",
    "    if not poste_controle.est_vide() and t >= prochain_traitement:\n",
    "        piece_en_controle = poste_controle.defiler()\n",
    "        piece_en_controle.depart = t + piece_en_controle.duree_controle\n",
    "        prochain_traitement = t + piece_en_controle.duree_controle\n"
   ]
  },
  {
   "cell_type": "code",
   "execution_count": 17,
   "metadata": {},
   "outputs": [
    {
     "data": {
      "text/plain": [
       "0"
      ]
     },
     "execution_count": 17,
     "metadata": {},
     "output_type": "execute_result"
    }
   ],
   "source": [
    "poste_controle.longueur()"
   ]
  },
  {
   "cell_type": "code",
   "execution_count": null,
   "metadata": {},
   "outputs": [],
   "source": []
  }
 ],
 "metadata": {
  "kernelspec": {
   "display_name": "Python 3.9.10 64-bit",
   "language": "python",
   "name": "python3"
  },
  "language_info": {
   "codemirror_mode": {
    "name": "ipython",
    "version": 3
   },
   "file_extension": ".py",
   "mimetype": "text/x-python",
   "name": "python",
   "nbconvert_exporter": "python",
   "pygments_lexer": "ipython3",
   "version": "3.9.10"
  },
  "orig_nbformat": 4,
  "vscode": {
   "interpreter": {
    "hash": "11938c6bc6919ae2720b4d5011047913343b08a43b18698fd82dedb0d4417594"
   }
  }
 },
 "nbformat": 4,
 "nbformat_minor": 2
}
