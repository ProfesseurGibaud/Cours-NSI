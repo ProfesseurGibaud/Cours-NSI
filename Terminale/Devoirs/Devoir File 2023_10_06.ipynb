{
 "cells": [
  {
   "cell_type": "markdown",
   "metadata": {},
   "source": [
    "# Devoir de NSI n°1 (Classe 2)"
   ]
  },
  {
   "cell_type": "markdown",
   "metadata": {},
   "source": [
    "## Exercice 1 (5 points)\n",
    "\n",
    "On considère des tables (des tableaux de dictionnaires) qui contiennent des\n",
    "enregistrements relatifs à des animaux hébergés dans un refuge. Les attributs des enregistrements sont ```'nom'```, ```'espece'```, ```'age'```, ```'enclos'```. Voici un exemple d'une telle table :\n",
    "\n"
   ]
  },
  {
   "cell_type": "code",
   "execution_count": null,
   "metadata": {},
   "outputs": [],
   "source": [
    "animaux = [ {'nom':'Medor', 'espece':'chien', 'age':5, 'enclos':2},\n",
    " {'nom':'Titine', 'espece':'chat', 'age':2, 'enclos':5},\n",
    " {'nom':'Tom', 'espece':'chat', 'age':7, 'enclos':4},\n",
    " {'nom':'Belle', 'espece':'chien', 'age':6, 'enclos':3},\n",
    " {'nom':'Mirza', 'espece':'chat', 'age':6, 'enclos':5}]"
   ]
  },
  {
   "cell_type": "markdown",
   "metadata": {},
   "source": [
    "Programmer une fonction ```selection_enclos``` qui :\n",
    " * prend en paramètres :\n",
    "    * une table ```table_animaux``` contenant des enregistrements relatifs à des animaux (comme dans l'exemple ci-dessus),\n",
    "    * un numéro d'enclos ```num_enclos``` ;\n",
    " * renvoie une table contenant les enregistrements de table_animaux dont l'attribut ```'enclos'``` est ```num_enclos```.\n",
    "\n",
    "\n",
    "Exemples avec la table animaux ci-dessus :\n"
   ]
  },
  {
   "cell_type": "code",
   "execution_count": null,
   "metadata": {},
   "outputs": [],
   "source": [
    ">>> selection_enclos(animaux, 5)\n",
    "[{'nom':'Titine', 'espece':'chat', 'age':2, 'enclos':5},\n",
    "{'nom':'Mirza', 'espece':'chat', 'age':6, 'enclos':5}]\n",
    ">>> selection_enclos(animaux, 2)\n",
    "[{'nom':'Medor', 'espece':'chien', 'age':5, 'enclos':2}]\n",
    ">>> selection_enclos(animaux, 7)\n",
    "[]"
   ]
  },
  {
   "cell_type": "markdown",
   "metadata": {},
   "source": [
    "## Exercice 2 (5 points)\n",
    "\n",
    "L’ordre des gènes sur un chromosome est représenté par un tableau ordre de n cases d’entiers distincts deux à deux et compris entre $1$ et $n$.\n",
    "Par exemple, ```ordre = [5, 4, 3, 6, 7, 2, 1, 8, 9]``` dans le cas $n=9$.\n",
    "On dit qu’il y a un point de rupture dans ordre dans chacune des situations suivantes :\n",
    "* la première valeur de ordre n’est pas 1 ;\n",
    "* l’écart entre deux gènes consécutifs n’est pas égal à 1 ;\n",
    "* la dernière valeur de ordre n’est pas $n$.\n",
    "Par exemple, si ```ordre = [5, 4, 3, 6, 7, 2, 1, 8, 9]``` avec $n = 9$, on a\n",
    "* un point de rupture au début car 5 est différent de 1\n",
    "* un point de rupture entre 3 et 6 (l’écart est de 3)\n",
    "* un point de rupture entre 7 et 2 (l’écart est de 5)\n",
    "* un point de rupture entre 1 et 8 (l’écart est de 7)\n",
    "Il y a donc 4 points de rupture.\n"
   ]
  },
  {
   "cell_type": "markdown",
   "metadata": {},
   "source": [
    "Compléter (et corriger l'indentation) les fonctions Python ```est_un_ordre``` et ```nombre_points_rupture```\n",
    "proposées à la page suivante pour que :\n",
    "* la fonction ```est_un_ordre``` renvoie ```True``` si le tableau passé en paramètre représente bien un ordre de gènes de chromosome et ```False``` sinon ;\n",
    "* la fonction ```nombre_points_rupture``` renvoie le nombre de points de rupture d’un tableau passé en paramètre représentant l’ordre de gènes d’un\n",
    "chromosome"
   ]
  },
  {
   "cell_type": "code",
   "execution_count": null,
   "metadata": {},
   "outputs": [],
   "source": [
    "def est_un_ordre(tab):\n",
    " '''\n",
    " Renvoie True si tab est de longueur n et contient tous les\n",
    "entiers de 1 à n, False sinon\n",
    " '''\n",
    " for i in range(1,...):\n",
    " if ...:\n",
    " return False\n",
    " return True\n",
    "def nombre_points_rupture(ordre):\n",
    " '''\n",
    " Renvoie le nombre de point de rupture de ordre qui représente\n",
    "un ordre de gènes de chromosome\n",
    " '''\n",
    " assert ... # ordre n'est pas un ordre de gènes\n",
    " n = len(ordre)\n",
    " nb = 0\n",
    " if ordre[...] != 1: # le premier n'est pas 1\n",
    " nb = nb + 1\n",
    " i = 0\n",
    " while i < ...:\n",
    " if ... not in [-1, 1]: # l'écart n'est pas 1\n",
    " nb = nb + 1\n",
    " i = i + 1\n",
    " if ordre[...] != n: # le dernier n'est pas n\n",
    " nb = nb + 1\n",
    " return nb"
   ]
  },
  {
   "cell_type": "markdown",
   "metadata": {},
   "source": [
    "Exemples :"
   ]
  },
  {
   "cell_type": "code",
   "execution_count": null,
   "metadata": {},
   "outputs": [],
   "source": [
    ">>> est_un_ordre([1, 6, 2, 8, 3, 7])\n",
    "False\n",
    ">>> est_un_ordre([5, 4, 3, 6, 7, 2, 1, 8, 9])\n",
    "True\n",
    ">>> nombre_points_rupture([5, 4, 3, 6, 7, 2, 1, 8, 9])\n",
    "4\n",
    ">>> nombre_points_rupture([1, 2, 3, 4, 5])\n",
    "0\n",
    ">>> nombre_points_rupture([1, 6, 2, 8, 3, 7, 4, 5])\n",
    "7\n",
    ">>> nombre_points_rupture([2, 1, 3, 4])\n",
    "2"
   ]
  },
  {
   "cell_type": "markdown",
   "metadata": {},
   "source": [
    "## Exercice 3"
   ]
  },
  {
   "cell_type": "markdown",
   "metadata": {},
   "source": [
    "On va parler voyage. Vous partez de Paris pour aller en Colombie. Au bout de combien de temps arriverez vous à l'hotel (ou l'hostel) ?"
   ]
  },
  {
   "cell_type": "markdown",
   "metadata": {},
   "source": [
    "1. Faites une classe ```File``` avec les méthodes et attributs vues dans le cours. \n"
   ]
  },
  {
   "cell_type": "code",
   "execution_count": null,
   "metadata": {},
   "outputs": [],
   "source": []
  },
  {
   "cell_type": "markdown",
   "metadata": {},
   "source": [
    "2. On va maintenant implémenter ce qu'est une sortie d'avion.\n",
    "   * Faites une classe ```Voyageur``` avec un attribut ```temps_attente``` initialisé à 0. \n",
    "    * Faites une classe ```Avion``` avec un attribut ```temps_de_sortie``` initialisé aléatoirement entre 3 et 10, un attribut ```file_de_voyageurs``` initialisé avec une ```File``` comprenant dans sa ```data``` entre 100 et 200 ```Voyageur```s."
   ]
  },
  {
   "cell_type": "code",
   "execution_count": null,
   "metadata": {},
   "outputs": [],
   "source": []
  },
  {
   "cell_type": "markdown",
   "metadata": {},
   "source": [
    "3. Ajouter à la classe ```Avion``` une méthode sortie de l'avion qui fais sortir un nouveau ```Voyageur``` de l'```Avion``` tous les ```temps_de_sortie```."
   ]
  },
  {
   "cell_type": "code",
   "execution_count": null,
   "metadata": {},
   "outputs": [],
   "source": []
  },
  {
   "cell_type": "markdown",
   "metadata": {},
   "source": [
    "4. Modifier la précédente méthode pour que l'attribut ```temps_attente``` du ```Voyageur``` qui sorte soit le temps qu'il a attendu. Je vous recommande que cette méthode prenne un argument supplémentaire ```temps_present```."
   ]
  },
  {
   "cell_type": "code",
   "execution_count": null,
   "metadata": {},
   "outputs": [],
   "source": []
  },
  {
   "cell_type": "markdown",
   "metadata": {},
   "source": [
    "5. * Faite une liste de 100 ```Avion```s appelée ```liste_avions``` \n",
    "   * Faite une nouvelle ```File``` appelée ```queue_pour_la_douane```.\n",
    "   * Faite un script qui ajoute au fur et à mesure tous les voyageurs des avions à ```queue_pour_la_douane```."
   ]
  },
  {
   "cell_type": "code",
   "execution_count": null,
   "metadata": {},
   "outputs": [],
   "source": []
  },
  {
   "cell_type": "markdown",
   "metadata": {},
   "source": []
  }
 ],
 "metadata": {
  "language_info": {
   "name": "python"
  },
  "orig_nbformat": 4
 },
 "nbformat": 4,
 "nbformat_minor": 2
}
