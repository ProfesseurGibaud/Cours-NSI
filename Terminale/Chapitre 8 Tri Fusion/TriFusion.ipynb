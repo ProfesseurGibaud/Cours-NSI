{
 "cells": [
  {
   "cell_type": "markdown",
   "metadata": {},
   "source": [
    "# Algorithme de Tri-Fusion"
   ]
  },
  {
   "cell_type": "markdown",
   "metadata": {},
   "source": [
    "## Introduction"
   ]
  },
  {
   "cell_type": "markdown",
   "metadata": {},
   "source": [
    "Le tri fusion (merge sort en anglais) est un algorithme de tri par comparaison efficace, il se base sur le principe du  [Diviser pour régner](https://en.wikipedia.org/wiki/Divide_and_conquer_algorithms)."
   ]
  },
  {
   "cell_type": "markdown",
   "metadata": {},
   "source": [
    "## Principe de l'Algorithme"
   ]
  },
  {
   "cell_type": "markdown",
   "metadata": {},
   "source": [
    "L'algorithme se compose de deux parties distinctes :\n",
    "* <b>Diviser :</b> on divise récursivement le tableau, c'est-à-dire qu'on va couper le tableau en deux sous tableaux et recommencer cette opération sur ces derniers jusqu'à ce que chaque sous tableau ne contienne plus qu'un seul élément.\n",
    "* <b> Fusionner :</b> une fois notre tableau divisé en $N$ sous tableaux ($N$ étant le nombre d'éléments), on fusionne deux à deux les tableaux en réorganisant les éléments dans l'ordre du tri (croissant ou décroissant)."
   ]
  },
  {
   "cell_type": "markdown",
   "metadata": {},
   "source": [
    "L'intérêt de diviser pour ensuite fusionner est que créer un tableau trié à partir de deux sous tableaux peut s'effectuer en temps linéaire. C'est ce point en particulier qui fait la rapidité du tri fusion."
   ]
  },
  {
   "cell_type": "markdown",
   "metadata": {},
   "source": [
    "## Exemple\n",
    "\n",
    "Prenons comme exemple la suite de nombre : 5, 1, 3, 8, 9, 6 que l’on veut trier avec le tri fusion dans l’ordre croissant :\n",
    "* <i>1ère étape</i> : diviser\n",
    "    * 5, 1, 3 | 8, 9, 6 -> on divise le tableau en deux.\n",
    "    * 5, | 1, 3 | 8 | 9, 6 -> on divise en deux les sous tableaux.\n",
    "    * 5 | 1 | 3 | 8 | 9 | 6 -> chaque sous tableau est de nouveau divisé pour n'avoir plus qu'un seul élément.\n",
    "* <i>2ème étape</i> : fusionner\n",
    "  * 1, 5 | 3, 8 | 6, 9 -> on prend deux sous tableaux adjacents que l'on fusionne en les ordonnant.\n",
    "  * 1, 3, 5, 8 | 6, 9 -> on continue la fusion des sous tableaux.\n",
    "  * 1, 3, 5, 6, 8, 9 -> le tableau ne contient plus de sous tableaux, il est donc trié.\n",
    "  \n",
    "\n",
    "\n",
    "  Les éléments en bleu correspondent à l'état du tableau après la première étape, et les éléments en vert après la deuxième étape.\n",
    "\n",
    "  \n",
    "  ![image.png](https://haltode.fr/img/algo/tri/tri_fusion/exemple_tri.png)"
   ]
  },
  {
   "cell_type": "markdown",
   "metadata": {},
   "source": [
    "## Pseudo Code\n"
   ]
  },
  {
   "cell_type": "markdown",
   "metadata": {},
   "source": [
    "### Fusion\n",
    "```\n",
    "entrée : deux tableaux triés A et B\n",
    "sortie : un tableau trié qui contient exactement les éléments des tableaux A et B\n",
    "fonction fusion(A[1, …, a], B[1, …, b])\n",
    "      si A est le tableau vide\n",
    "              renvoyer B\n",
    "      si B est le tableau vide\n",
    "              renvoyer A\n",
    "      si A[1] ≤ B[1]\n",
    "              renvoyer A[1] ⊕ fusion(A[2, …, a], B)\n",
    "      sinon\n",
    "              renvoyer B[1] ⊕ fusion(A, B[2, …, b])\n",
    "```\n",
    "\n",
    "<font color = red><strong> Exercice </strong></font>\n",
    "\n",
    "Implémenter en Python une fonction récursive de fusion de 2 listes triées."
   ]
  },
  {
   "cell_type": "code",
   "execution_count": null,
   "metadata": {},
   "outputs": [],
   "source": []
  },
  {
   "cell_type": "markdown",
   "metadata": {},
   "source": [
    "## Tri Fusion \n",
    "\n",
    "```\n",
    "entrée : un tableau T\n",
    "sortie : une permutation triée de T\n",
    "fonction triFusion(T[1, …, n])\n",
    "      si n ≤ 1\n",
    "              renvoyer T\n",
    "      sinon\n",
    "              renvoyer fusion(triFusion(T[1, …, n/2]), triFusion(T[n/2 + 1, …, n]))\n",
    "```\n",
    "\n",
    "<font color = red><strong> Exercice </strong></font>\n",
    "\n",
    "Implémenter en Python une fonction récursive de tri-fusion (il faudra utiliser la fonction <code>fusion </code>)"
   ]
  },
  {
   "cell_type": "code",
   "execution_count": null,
   "metadata": {},
   "outputs": [],
   "source": []
  },
  {
   "cell_type": "markdown",
   "metadata": {},
   "source": [
    "### Exercice : \n",
    "\n",
    "* Faire un objet de type Cadeau avec comme attribut une valeur\n",
    "* Faire une liste de 1000 cadeaux avec des valeurs aléatoires\n",
    "* Trier en utilisant (et adaptant vos fonctions) l'algorithme de tri-fusion cette liste par ordre croissant de valeur. "
   ]
  }
 ],
 "metadata": {
  "kernelspec": {
   "display_name": "Python 3.9.10 64-bit",
   "language": "python",
   "name": "python3"
  },
  "language_info": {
   "name": "python",
   "version": "3.9.10"
  },
  "orig_nbformat": 4,
  "vscode": {
   "interpreter": {
    "hash": "11938c6bc6919ae2720b4d5011047913343b08a43b18698fd82dedb0d4417594"
   }
  }
 },
 "nbformat": 4,
 "nbformat_minor": 2
}
